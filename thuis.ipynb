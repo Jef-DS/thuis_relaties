{
 "cells": [
  {
   "cell_type": "markdown",
   "metadata": {},
   "source": [
    "# Relaties analyseren (naïeve manier)\n",
    "\n",
    "## Data verzamelen\n",
    "\n",
    "De relaties op de website van thuis worden getoond op basis van de voornaam. Het probleem is dat er meerdere personages met dezelfde voornaam zijn. Dus we kunnen op basis van deze informatie de relaties niet goed analyseren. Maar in een eerste stap zullen we dat toch doen, kwestie van een idee te krijgen hoe we die relatiedata kunnen verwerken\n",
    "\n",
    "We maken gebruik van thuis\\_http\\_utils.get_url() om het relatiebestand te downloaden en de tekst te pakken te krijgen. Vervolgens bewaren we de relatiedata in _relaties\\_namen.csv_ met behulp van thuis\\_html\\_utils.extract\\relaties()\n",
    "\n",
    "Deze code moeten we natuurlijk maar eenmaal uitvoeren. Voor de rest zullen we met het CSV-bestand werken."
   ]
  },
  {
   "cell_type": "code",
   "execution_count": 1,
   "metadata": {},
   "outputs": [],
   "source": [
    "from thuis_http_utils import get_url\n",
    "from thuis_html_utils import extract_relaties\n",
    "\n",
    "RELATIE_URL = \"https://nergensbeterdanthuis.fandom.com/nl/wiki/Relaties\"\n",
    "RELATIE_BESTAND = \"relaties_namen.csv\"\n",
    "\n",
    "inhoud = get_url(RELATIE_URL, True)   # inhoud = get_url(RELATIE_URL) wanneer het bestand al gedownload is\n",
    "extract_relaties(RELATIE_BESTAND, inhoud)"
   ]
  },
  {
   "cell_type": "markdown",
   "metadata": {},
   "source": [
    "## Een lijst met unieke namen\n",
    "De namen komen meerdere keren voor. Niet alleen omdat de voornamen uniek zijn, maar ook omdat personages meerdere relaties hebben. Daarom zullen we een lijst met unieke namen maken."
   ]
  },
  {
   "cell_type": "code",
   "execution_count": 4,
   "metadata": {},
   "outputs": [
    {
     "name": "stdout",
     "output_type": "stream",
     "text": [
      "aantak relaties 467\n",
      "aantal unieke namen 170\n",
      "['Abel', 'Adam', 'Adil', 'Aisha', 'Alex', 'Amber', 'André', 'Angele', 'Angèle', 'Ann', 'Arne', 'Arno', 'Axel', 'Barbara', 'Bennie', 'Bert', 'Betty', 'Bianca', 'Bob', 'Bonnie', 'Bram', 'Britt', 'Carlos', 'Carolien', 'Charité', 'Chiara', 'Christine', 'Claire', 'Cois', 'Cédric', 'Daisy', 'David', 'Dieter', 'Dirk', 'Dorien', 'Dries', 'Dré', 'Eddy', 'Eline', 'Elke', 'Emma', 'Eric', 'Eva', 'Femke', 'Fien', 'Filip', 'Floris', 'Florke', 'Frank', 'Franky', 'François', 'Frederique', 'Gaby', 'Gaston', 'Geert', 'Gitta', 'Guy', 'Hanne', 'Harry', 'Herman', 'Hélène', 'Ilias', 'Ingrid', 'Isabelle', 'Ivo', 'Jacques', 'Jan', 'Jana', 'Jean-Marie', 'Jean-Pierre', 'Jef', 'Jenny', 'Jens', 'Jessica', 'Jetteke', 'Joeri', 'John', 'Joren', 'Judith', 'Julia', 'Kaat', 'Karin', 'Kasper', 'Katrien', 'Kobe', 'Kris', 'Kristoff', 'Lena', 'Leo', 'Leon', 'Leontien', 'Linda', 'Lou', 'Louise', 'Lowie', 'Luc', 'Lynn', 'Maarten', 'Madeleine', 'Manon', 'Margot', 'Marianne', 'Marie', 'Martha', 'Martine', 'Mathilde', 'Max', 'Mayra', 'Michael', 'Mike', 'Mira', 'Mo', 'Nancy', 'Neil', 'Niels', 'Nina', 'Nona', 'Olivia', 'Paulien', 'Peggy', 'Peter', 'Pierre', 'Rafaël', 'Rebecca', 'Renzo', 'Renée', 'Ria', 'Robbe', 'Robert', 'Roger', 'Rosa', 'Ruben', 'Sabine', 'Sam', 'Sandrine', 'Sarah', 'Senne', 'Silke', 'Simonne', 'Sindi', 'Sofie', 'Stan', 'Steven', 'Stijn', 'Tamara', 'Tania', 'Thilly', 'Thomas', 'Tibo', 'Tim', 'Tom', 'Toon', 'Tuur', 'Valerie', 'Veronique', 'Vicky', 'Victor', 'Vince', 'Viv', 'Waldek', 'Walter', 'Wendy', 'Werner', 'William', 'Willy', 'Wim', 'Youssef', 'Yves', 'Yvette', 'Zosiane']\n"
     ]
    }
   ],
   "source": [
    "from csv import DictReader\n",
    "RELATIE_BESTAND = \"relaties_namen.csv\"\n",
    "\n",
    "unieke_namen = set()\n",
    "relaties = []\n",
    "with open (RELATIE_BESTAND, mode='r', newline='', encoding='utf-8') as f:\n",
    "    reader = DictReader(f, delimiter=\";\")\n",
    "    for rij in reader:\n",
    "        relaties.append(rij)\n",
    "        unieke_namen.add(rij['persoon_1'])\n",
    "        unieke_namen.add(rij['persoon_2'])\n",
    "\n",
    "print('aantak relaties', len(relaties))\n",
    "print('aantal unieke namen', len(unieke_namen))\n",
    "gesorteerde_namen = list(unieke_namen)\n",
    "gesorteerde_namen.sort()\n",
    "print(gesorteerde_namen)"
   ]
  },
  {
   "cell_type": "markdown",
   "metadata": {},
   "source": [
    "## relaties op basis van het volgnummer van het personage\n",
    "Nu dat we een (gesorteerde) lijst met de namen van de personages hebben, kunnen we de namen in de relaties vervangen door nummers. We zullen het resultaat bewaren in een CSV-bestand"
   ]
  },
  {
   "cell_type": "code",
   "execution_count": 13,
   "metadata": {},
   "outputs": [],
   "source": [
    "from csv import DictWriter\n",
    "RELATIE_NR_BESTAND = \"relaties_nrs.csv\"\n",
    "UNIEKE_NAMEN = \"unieke_namen.txt\"\n",
    "relatie_nrs = []\n",
    "for relatie in relaties:\n",
    "    nr1 = gesorteerde_namen.index(relatie['persoon_1'])\n",
    "    nr2 = gesorteerde_namen.index(relatie['persoon_2'])\n",
    "    relatie_nrs.append({'seizoen': int(relatie['seizoen']), 'nr1': nr1, 'nr2':nr2})\n",
    "with open(RELATIE_NR_BESTAND, mode='w', newline='', encoding='utf-8') as f:\n",
    "    writer = DictWriter(f, delimiter=';', fieldnames=('seizoen', 'nr1', 'nr2'))\n",
    "    writer.writeheader()\n",
    "    writer.writerows(relatie_nrs)\n",
    "with open(UNIEKE_NAMEN, mode='w', encoding='utf-8') as f:\n",
    "    f.write(\";\".join(gesorteerde_namen))"
   ]
  },
  {
   "cell_type": "markdown",
   "metadata": {},
   "source": [
    "## Een Numpy array met de relaties per seizoen\n",
    "Nu alles omgezet is in nummers, kunnen we een numpy array maken met de gegevens. Het zal een driedimensionele matrix zijn. [aantal_seizoene, aantal_unieke_namen, aantal_unieke_namen]"
   ]
  },
  {
   "cell_type": "code",
   "execution_count": 20,
   "metadata": {},
   "outputs": [
    {
     "name": "stdout",
     "output_type": "stream",
     "text": [
      "class:  ndarray\n",
      "shape:  (29, 170, 170)\n",
      "strides:  (28900, 170, 1)\n",
      "itemsize:  1\n",
      "aligned:  True\n",
      "contiguous:  True\n",
      "fortran:  False\n",
      "data pointer: 0x18d12296350\n",
      "byteorder:  little\n",
      "byteswap:  False\n",
      "type: uint8\n"
     ]
    }
   ],
   "source": [
    "import numpy as np\n",
    "aantal_seizoenen = relatie_nrs[-1]['seizoen']\n",
    "aantal_unieke_namen = len(gesorteerde_namen)\n",
    "arr_relaties = np.zeros((aantal_seizoenen, aantal_unieke_namen, aantal_unieke_namen), dtype=np.uint8)\n",
    "for relatie in relatie_nrs:\n",
    "    seizoen = relatie['seizoen'] -1\n",
    "    arr_relaties[seizoen, relatie['nr1'], relatie['nr2']] = 1\n",
    "    arr_relaties[seizoen, relatie['nr2'], relatie['nr1']] = 1   #een relatie is wederzijds\n",
    "np.info(arr_relaties)\n"
   ]
  },
  {
   "cell_type": "code",
   "execution_count": 39,
   "metadata": {},
   "outputs": [
    {
     "data": {
      "text/plain": [
       "'Ann'"
      ]
     },
     "execution_count": 39,
     "metadata": {},
     "output_type": "execute_result"
    }
   ],
   "source": [
    "resultaat_arr = np.any(arr_relaties==1, axis=0)\n",
    "resultaat_nr_arr = resultaat_arr.astype(np.uint8)\n",
    "aantal_relaties = resultaat_nr_arr @ resultaat_nr_arr\n",
    "np.argmax(aantal_relaties.diagonal())\n",
    "gesorteerde_namen[9]"
   ]
  },
  {
   "cell_type": "code",
   "execution_count": 36,
   "metadata": {},
   "outputs": [
    {
     "name": "stdout",
     "output_type": "stream",
     "text": [
      "[{'voornaam': 'Adil', 'achternaam': 'Bakkal', 'seizoenen': '[19, 20, 21, 22, 23, 24, 25, 26, 27, 28, 29]'}, {'voornaam': 'Britt', 'achternaam': 'Van Noteghem', 'seizoenen': '[11, 12, 13, 14, 15, 16, 17, 18, 19, 20, 21, 22, 23, 24, 25, 26, 27, 28, 29]'}, {'voornaam': 'Cédric', 'achternaam': 'Barry', 'seizoenen': '[29]'}, {'voornaam': 'Christine', 'achternaam': 'Leysen', 'seizoenen': '[24, 25, 26, 27, 28, 29]'}, {'voornaam': 'Dieter', 'achternaam': 'Van Aert', 'seizoenen': '[20, 21, 22, 23, 24, 25, 26, 27, 28, 29]'}]\n",
      "[{'voornaam': 'Abel', 'achternaam': 'Nauwelaers', 'seizoenen': '[29]'}, {'voornaam': 'Hannah', 'achternaam': 'Cremers', 'seizoenen': '[21, 22, 23, 24, 25, 26, 27, 28, 29]'}, {'voornaam': 'Jaan', 'achternaam': 'Bakkal', 'seizoenen': '[26, 27, 28, 29]'}, {'voornaam': 'Leo', 'achternaam': 'Vereken', 'seizoenen': '[25, 26, 27, 28, 29]'}, {'voornaam': 'Polly', 'achternaam': 'Bomans', 'seizoenen': '[29]'}]\n",
      "[{'voornaam': 'Adam', 'achternaam': 'Kiabaté', 'seizoenen': '[22]'}, {'voornaam': 'Alex', 'achternaam': 'Walters', 'seizoenen': '[8, 9]'}, {'voornaam': 'Amber', 'achternaam': ' Van Gistel', 'seizoenen': '[12, 13]'}, {'voornaam': 'André', 'achternaam': 'Versteven', 'seizoenen': '[16, 17, 18, 19, 20, 21]'}, {'voornaam': 'Axel', 'achternaam': 'Verstraeten', 'seizoenen': '[17]'}]\n",
      "[{'seizoen': '1', 'persoon_1': 'Frank', 'persoon_2': 'Jenny'}, {'seizoen': '1', 'persoon_1': 'Walter', 'persoon_2': 'Marianne'}, {'seizoen': '1', 'persoon_1': 'Bennie', 'persoon_2': 'Peggy'}, {'seizoen': '1', 'persoon_1': 'Frank', 'persoon_2': 'Simonne'}, {'seizoen': '1', 'persoon_1': 'John', 'persoon_2': 'Ann'}]\n"
     ]
    }
   ],
   "source": [
    "from thuis_html_utils import HOOFDPERSONAGE_CSV, NEVENPERSONAGE_CSV, GASTPERSONAGE_CSV,RELATIES_NAMEN_CSV\n",
    "from csv import DictReader\n",
    "\n",
    "hoofdpersonages = []\n",
    "with open(HOOFDPERSONAGE_CSV, mode='r', newline='', encoding='utf-8') as f:\n",
    "    reader = DictReader(f, delimiter=';')\n",
    "    for rij in reader:\n",
    "        hoofdpersonages.append(rij)\n",
    "\n",
    "nevenpersonages = []\n",
    "with open(NEVENPERSONAGE_CSV, mode='r', newline='', encoding='utf-8') as f:\n",
    "    reader = DictReader(f, delimiter=';')\n",
    "    for rij in reader:\n",
    "        nevenpersonages.append(rij)\n",
    "gastpersonages = []\n",
    "with open(GASTPERSONAGE_CSV, mode='r', newline='', encoding='utf-8') as f:\n",
    "    reader = DictReader(f, delimiter=';')\n",
    "    for rij in reader:\n",
    "        gastpersonages.append(rij)\n",
    "relaties = []\n",
    "with open(RELATIES_NAMEN_CSV, mode='r', encoding='utf-8') as f:\n",
    "    reader = DictReader(f, delimiter=';')\n",
    "    for rij in reader:\n",
    "        relaties.append(rij)\n",
    "\n",
    "print(hoofdpersonages[:5])\n",
    "print(nevenpersonages[:5])\n",
    "print(gastpersonages[:5])\n",
    "print(relaties[:5])\n"
   ]
  },
  {
   "cell_type": "code",
   "execution_count": 37,
   "metadata": {},
   "outputs": [
    {
     "data": {
      "text/plain": [
       "0"
      ]
     },
     "execution_count": 37,
     "metadata": {},
     "output_type": "execute_result"
    }
   ],
   "source": [
    "personage_lijst = hoofdpersonages + nevenpersonages + gastpersonages\n",
    "def bestaat_personage(voornaam, seizoen) -> bool:\n",
    "    personages = [personage for personage in personage_lijst if personage['voornaam'] == voornaam]\n",
    "    if len(personages) == 0:\n",
    "        print(f'Personage {voornaam} niet gevonden')\n",
    "        return False\n",
    "    for personage in personages:\n",
    "        if seizoen in personage['seizoenen']:\n",
    "            return True\n",
    "    print(f'Seizoen {seizoen} niet gevonden voor {voornaam}')\n",
    "    return False\n",
    "\n",
    "aantal_fout = 0\n",
    "for relatie in relaties:\n",
    "    if not bestaat_personage(relatie['persoon_1'], relatie['seizoen']): aantal_fout += 1\n",
    "    if not bestaat_personage(relatie['persoon_2'], relatie['seizoen']): aantal_fout += 1\n",
    "\n",
    "aantal_fout\n",
    "    \n"
   ]
  },
  {
   "cell_type": "code",
   "execution_count": 39,
   "metadata": {},
   "outputs": [],
   "source": [
    "from thuis_db_utils import init_db, bewaar_personage_lijst\n",
    "init_db()\n",
    "\n",
    "bewaar_personage_lijst(personage_lijst)\n"
   ]
  },
  {
   "cell_type": "code",
   "execution_count": 41,
   "metadata": {},
   "outputs": [
    {
     "name": "stdout",
     "output_type": "stream",
     "text": [
      "{'id': 1, 'voornaam': 'Adil', 'achternaam': 'Bakkal', 'seizoenen': [19, 20, 21, 22, 23, 24, 25, 26, 27, 28, 29]}\n",
      "{'id': 2, 'voornaam': 'Britt', 'achternaam': 'Van Noteghem', 'seizoenen': [11, 12, 13, 14, 15, 16, 17, 18, 19, 20, 21, 22, 23, 24, 25, 26, 27, 28, 29]}\n",
      "{'id': 3, 'voornaam': 'Cédric', 'achternaam': 'Barry', 'seizoenen': [29]}\n",
      "{'id': 4, 'voornaam': 'Christine', 'achternaam': 'Leysen', 'seizoenen': [24, 25, 26, 27, 28, 29]}\n",
      "{'id': 5, 'voornaam': 'Dieter', 'achternaam': 'Van Aert', 'seizoenen': [20, 21, 22, 23, 24, 25, 26, 27, 28, 29]}\n",
      "{'id': 6, 'voornaam': 'Dries', 'achternaam': 'Van Aken', 'seizoenen': [23, 24, 25, 26, 27, 28, 29]}\n",
      "{'id': 7, 'voornaam': 'Eddy', 'achternaam': 'Van Noteghem', 'seizoenen': [9, 10, 11, 12, 13, 14, 15, 16, 17, 18, 19, 20, 21, 22, 23, 24, 25, 26, 27, 28, 29]}\n",
      "{'id': 8, 'voornaam': 'Emma', 'achternaam': 'Van Damme', 'seizoenen': [18, 19, 20, 21, 22, 23, 24, 25, 26, 27, 29]}\n",
      "{'id': 9, 'voornaam': 'Femke', 'achternaam': 'De Grote', 'seizoenen': [8, 9, 10, 11, 12, 13, 14, 15, 16, 17, 18, 19, 20, 21, 22, 23, 24, 25, 26, 27, 28, 29]}\n",
      "{'id': 10, 'voornaam': 'Frank', 'achternaam': 'Bomans', 'seizoenen': [1, 2, 3, 4, 5, 6, 7, 8, 9, 10, 11, 12, 13, 14, 15, 16, 17, 18, 19, 20, 21, 22, 23, 24, 25, 26, 27, 28, 29]}\n",
      "{'id': 11, 'voornaam': 'Judith', 'achternaam': 'Van Santen', 'seizoenen': [18, 19, 20, 21, 22, 23, 24, 25, 26, 27, 28, 29]}\n",
      "{'id': 12, 'voornaam': 'Karin', 'achternaam': 'Baert', 'seizoenen': [5, 7, 8, 9, 10, 11, 12, 15, 18, 19, 20, 21, 22, 23, 24, 25, 26, 27, 28, 29]}\n",
      "{'id': 13, 'voornaam': 'Lowie', 'achternaam': 'Bomans', 'seizoenen': [8, 9, 10, 11, 12, 13, 18, 19, 20, 21, 22, 23, 24, 25, 26, 27, 28, 29]}\n",
      "{'id': 14, 'voornaam': 'Marianne', 'achternaam': 'Bastiaens', 'seizoenen': [1, 2, 3, 4, 5, 6, 7, 8, 9, 10, 11, 12, 13, 14, 15, 16, 17, 18, 19, 20, 21, 22, 23, 24, 25, 26, 27, 28, 29]}\n",
      "{'id': 15, 'voornaam': 'Nancy', 'achternaam': 'De Grote', 'seizoenen': [9, 10, 11, 12, 13, 14, 15, 16, 17, 18, 19, 20, 21, 22, 23, 24, 25, 26, 27, 28, 29]}\n",
      "{'id': 16, 'voornaam': 'Niels', 'achternaam': 'Le Grand', 'seizoenen': [27, 28, 29]}\n",
      "{'id': 17, 'voornaam': 'Peter', 'achternaam': 'Vlerick', 'seizoenen': [13, 14, 15, 16, 17, 18, 19, 20, 21, 22, 23, 24, 25, 26, 27, 28, 29]}\n",
      "{'id': 18, 'voornaam': 'Robin', 'achternaam': 'Bomans', 'seizoenen': [16, 25, 26, 27, 28, 29]}\n",
      "{'id': 19, 'voornaam': 'Rosa', 'achternaam': 'Verbeeck', 'seizoenen': [1, 2, 3, 4, 5, 6, 7, 8, 9, 10, 11, 12, 13, 14, 15, 16, 17, 18, 19, 20, 21, 22, 23, 24, 25, 26, 27, 28, 29]}\n",
      "{'id': 20, 'voornaam': 'Sam', 'achternaam': 'De Witte', 'seizoenen': [19, 20, 21, 22, 23, 24, 25, 26, 27, 28, 29]}\n",
      "{'id': 21, 'voornaam': 'Silke', 'achternaam': 'Le Grand', 'seizoenen': [27, 28, 29]}\n",
      "{'id': 22, 'voornaam': 'Simonne', 'achternaam': 'Backx', 'seizoenen': [1, 2, 3, 4, 5, 6, 7, 8, 9, 10, 11, 12, 13, 14, 15, 16, 17, 18, 19, 20, 21, 22, 23, 24, 25, 26, 27, 28, 29]}\n",
      "{'id': 23, 'voornaam': 'Tamara', 'achternaam': 'Vereken', 'seizoenen': [21, 22, 23, 24, 25, 26, 27, 28, 29]}\n",
      "{'id': 24, 'voornaam': 'Thilly', 'achternaam': 'Van Santen', 'seizoenen': [23, 24, 25, 26, 27, 28, 29]}\n",
      "{'id': 25, 'voornaam': 'Tim', 'achternaam': 'Cremers', 'seizoenen': [13, 14, 15, 16, 17, 18, 19, 20, 21, 22, 23, 24, 25, 26, 27, 28, 29]}\n",
      "{'id': 26, 'voornaam': 'Tom', 'achternaam': 'De Decker', 'seizoenen': [1, 2, 3, 4, 5, 14, 15, 16, 17, 18, 19, 20, 21, 22, 23, 24, 25, 26, 27, 28, 29]}\n",
      "{'id': 27, 'voornaam': 'Vince', 'achternaam': 'Pauwels', 'seizoenen': [28, 29]}\n",
      "{'id': 28, 'voornaam': 'Viv', 'achternaam': 'Van Rooy', 'seizoenen': [25, 26, 27, 28, 29]}\n",
      "{'id': 29, 'voornaam': 'Waldek', 'achternaam': 'Kosinski', 'seizoenen': [7, 8, 9, 10, 11, 12, 13, 14, 15, 16, 17, 18, 19, 20, 21, 22, 23, 24, 25, 26, 27, 28, 29]}\n",
      "{'id': 30, 'voornaam': 'Yasmine', 'achternaam': 'Oostvoghels', 'seizoenen': [26, 27, 28, 29]}\n",
      "{'id': 31, 'voornaam': 'Aïsha', 'achternaam': 'Fawzi', 'seizoenen': [9, 10, 11, 12, 13, 25]}\n",
      "{'id': 32, 'voornaam': 'Angèle', 'achternaam': 'Backx', 'seizoenen': [4, 5, 10, 11, 12, 20, 21, 22, 23, 24, 25, 26, 27, 28, 29]}\n",
      "{'id': 33, 'voornaam': 'Ann', 'achternaam': 'De Decker', 'seizoenen': [1, 2, 3, 7, 8, 9, 10, 11, 12, 13, 14, 15, 16, 17, 18, 19, 20, 21, 22, 23, 24, 25, 26]}\n",
      "{'id': 34, 'voornaam': 'Arno', 'achternaam': 'Dandrea', 'seizoenen': [10, 11]}\n",
      "{'id': 35, 'voornaam': 'Bennie', 'achternaam': 'De Taeye', 'seizoenen': [1, 2, 3, 4, 21, 22, 24]}\n",
      "{'id': 36, 'voornaam': 'Betty', 'achternaam': 'Onbekend', 'seizoenen': [11]}\n",
      "{'id': 37, 'voornaam': 'Bianca', 'achternaam': 'Bomans', 'seizoenen': [1, 2, 3, 4, 5, 8, 12, 14, 15, 16, 20, 21]}\n",
      "{'id': 38, 'voornaam': 'Bob', 'achternaam': 'Sleeckx', 'seizoenen': [21, 22, 23, 24, 25, 26, 27, 28, 29]}\n",
      "{'id': 39, 'voornaam': 'Bram', 'achternaam': 'Schepers', 'seizoenen': [15, 16, 17, 18, 19]}\n",
      "{'id': 40, 'voornaam': 'Carolien', 'achternaam': 'Jacobs', 'seizoenen': [1, 2, 3]}\n",
      "{'id': 41, 'voornaam': 'Charité', 'achternaam': 'Doumbia', 'seizoenen': [21, 22, 23]}\n",
      "{'id': 42, 'voornaam': 'Cois', 'achternaam': 'Pelckmans', 'seizoenen': [3, 4, 5, 6, 7, 8, 9, 10, 11, 12, 13, 14, 15, 16]}\n",
      "{'id': 43, 'voornaam': 'Daisy', 'achternaam': 'Vandenkerckhove', 'seizoenen': [12, 13, 14]}\n",
      "{'id': 44, 'voornaam': 'Dirk', 'achternaam': 'Van Baelen', 'seizoenen': [6]}\n",
      "{'id': 45, 'voornaam': 'Dirk', 'achternaam': 'Vermeersch', 'seizoenen': [27, 28, 29]}\n",
      "{'id': 46, 'voornaam': 'Dorien', 'achternaam': 'De Backer', 'seizoenen': [12, 13, 14]}\n",
      "{'id': 47, 'voornaam': 'Dré', 'achternaam': 'Van Goethem', 'seizoenen': [3, 4, 5, 6, 7, 8, 9, 10]}\n",
      "{'id': 48, 'voornaam': 'Eric', 'achternaam': 'Bastiaens', 'seizoenen': [8, 9, 10, 11, 12, 13, 14]}\n",
      "{'id': 49, 'voornaam': 'Eva', 'achternaam': 'Verbist', 'seizoenen': [3, 4, 5, 6, 7, 8, 9, 10, 11, 12, 13]}\n",
      "{'id': 50, 'voornaam': 'Febe', 'achternaam': 'Pauwels', 'seizoenen': [28, 29]}\n",
      "{'id': 51, 'voornaam': 'Felicienne', 'achternaam': 'Lejeune', 'seizoenen': [1, 2, 3, 4, 5, 6, 7]}\n",
      "{'id': 52, 'voornaam': 'Fernand', 'achternaam': 'Verbist', 'seizoenen': [1, 2, 3, 4, 5, 6]}\n",
      "{'id': 53, 'voornaam': 'Florke', 'achternaam': 'Rousseau', 'seizoenen': [1, 2, 3, 4, 5, 6, 7, 8, 9]}\n",
      "{'id': 54, 'voornaam': 'Frederique', 'achternaam': 'Wouters', 'seizoenen': [2, 3, 4, 5]}\n",
      "{'id': 55, 'voornaam': 'Gaston', 'achternaam': 'Vercammen', 'seizoenen': [4, 5]}\n",
      "{'id': 56, 'voornaam': 'Geert', 'achternaam': 'Smeekens', 'seizoenen': [11, 12, 13, 14, 15, 16, 17, 18, 19, 20]}\n",
      "{'id': 57, 'voornaam': 'Guy', 'achternaam': 'De Herdt', 'seizoenen': [17, 18]}\n",
      "{'id': 58, 'voornaam': 'Harry', 'achternaam': 'Moeyaerts', 'seizoenen': [1, 2, 3, 4]}\n",
      "{'id': 59, 'voornaam': 'Harry', 'achternaam': 'Peeters', 'seizoenen': [26, 27, 28]}\n",
      "{'id': 60, 'voornaam': 'Herman', 'achternaam': 'Schepers', 'seizoenen': [15, 17]}\n",
      "{'id': 61, 'voornaam': 'Ilias', 'achternaam': 'Pauwels', 'seizoenen': [27, 28, 29]}\n",
      "{'id': 62, 'voornaam': 'Ingrid', 'achternaam': 'Michiels', 'seizoenen': [1, 2, 3, 4]}\n",
      "{'id': 63, 'voornaam': 'Isabelle', 'achternaam': 'Vinck', 'seizoenen': [5, 6, 7, 8, 9]}\n",
      "{'id': 64, 'voornaam': 'Jacques', 'achternaam': 'Pieters', 'seizoenen': [23, 24, 25, 26, 27]}\n",
      "{'id': 65, 'voornaam': 'Jacques', 'achternaam': 'Van Ginderen', 'seizoenen': [11]}\n",
      "{'id': 66, 'voornaam': 'Jan', 'achternaam': 'Reimers', 'seizoenen': [8, 9, 10]}\n",
      "{'id': 67, 'voornaam': 'Jana', 'achternaam': 'Blomaert', 'seizoenen': [17, 18, 19, 20, 21, 22]}\n",
      "{'id': 68, 'voornaam': 'Jean-Pierre', 'achternaam': 'De Ruyter', 'seizoenen': [4, 5, 6, 7, 8]}\n",
      "{'id': 69, 'voornaam': 'Jenny', 'achternaam': 'Verbeeck', 'seizoenen': [1, 2, 3, 4, 5, 6, 7, 8, 9, 10, 11, 12, 13, 14, 15, 16, 17, 18, 19, 20, 21, 22]}\n",
      "{'id': 70, 'voornaam': 'Jens', 'achternaam': 'De Belder', 'seizoenen': [13, 14, 15, 16, 17, 18, 19, 20, 21]}\n",
      "{'id': 71, 'voornaam': 'Jetteke', 'achternaam': 'Onbekend', 'seizoenen': [11]}\n",
      "{'id': 72, 'voornaam': 'Joeri', 'achternaam': 'Verbist', 'seizoenen': [3, 4, 5, 6, 7, 8, 9]}\n",
      "{'id': 73, 'voornaam': 'Joren', 'achternaam': 'De Witte', 'seizoenen': [23, 24, 25, 26, 27, 28]}\n",
      "{'id': 74, 'voornaam': 'Julia', 'achternaam': 'Van Capelle', 'seizoenen': [12, 13, 14, 15, 16, 17, 18, 19, 20, 21, 22, 23]}\n",
      "{'id': 75, 'voornaam': 'Kaat', 'achternaam': 'Bomans', 'seizoenen': [4, 5, 6, 7, 8, 9, 10, 11, 12, 13, 14, 15, 16, 17, 18, 19, 20, 21, 22, 23, 24, 25]}\n",
      "{'id': 76, 'voornaam': 'Kasper', 'achternaam': 'Adayef', 'seizoenen': [11, 12, 13, 14, 17, 18]}\n",
      "{'id': 77, 'voornaam': 'Katrien', 'achternaam': 'Snackaert', 'seizoenen': [13, 14, 15, 16, 17, 18, 20, 28]}\n",
      "{'id': 78, 'voornaam': 'Kobe', 'achternaam': 'Baert', 'seizoenen': [22, 23, 24, 25, 26, 27, 28]}\n",
      "{'id': 79, 'voornaam': 'Kris', 'achternaam': 'Moreels', 'seizoenen': [14, 15, 16]}\n",
      "{'id': 80, 'voornaam': 'Kristoff', 'achternaam': 'Verbist', 'seizoenen': [3, 4, 5, 6]}\n",
      "{'id': 81, 'voornaam': 'Leo', 'achternaam': 'Vertonghen', 'seizoenen': [13, 14, 15, 16, 17, 18, 19, 20, 21, 22, 23, 24, 25, 26, 27]}\n",
      "{'id': 82, 'voornaam': 'Leontien', 'achternaam': 'Vercammen', 'seizoenen': [2, 3, 4, 5, 6, 7, 8, 9, 10, 11, 12, 13]}\n",
      "{'id': 83, 'voornaam': 'Liliane', 'achternaam': 'Deroep', 'seizoenen': [2, 3, 4, 5]}\n",
      "{'id': 84, 'voornaam': 'Linda', 'achternaam': 'Lievens', 'seizoenen': [5, 6]}\n",
      "{'id': 85, 'voornaam': 'Lou', 'achternaam': 'Swertvaeghers', 'seizoenen': [2, 3]}\n",
      "{'id': 86, 'voornaam': 'Luc', 'achternaam': 'Bomans', 'seizoenen': [1, 2, 3, 4, 5, 6, 7, 8, 9, 10, 11, 12, 13, 14, 15, 16, 17, 18, 19, 20, 21, 22, 23]}\n",
      "{'id': 87, 'voornaam': 'Maaike', 'achternaam': 'Mertens', 'seizoenen': [11]}\n",
      "{'id': 88, 'voornaam': 'Madeleine', 'achternaam': 'Vercauteren', 'seizoenen': [16, 17, 18]}\n",
      "{'id': 89, 'voornaam': 'Maité', 'achternaam': 'Santens', 'seizoenen': [28, 29]}\n",
      "{'id': 90, 'voornaam': 'Marie', 'achternaam': 'Van Goethem', 'seizoenen': [4, 5, 6, 7, 8, 9, 10, 11, 12, 13]}\n",
      "{'id': 91, 'voornaam': 'Martine', 'achternaam': 'Lefever', 'seizoenen': [8, 9, 10, 11, 12, 13, 14]}\n",
      "{'id': 92, 'voornaam': 'Mathilde', 'achternaam': 'Onbekend', 'seizoenen': [8, 9, 10, 11, 12]}\n",
      "{'id': 93, 'voornaam': 'Mayra', 'achternaam': 'Magiels', 'seizoenen': [16, 17, 18, 19, 20, 21, 22, 23, 24]}\n",
      "{'id': 94, 'voornaam': 'Michael', 'achternaam': 'Bastiaens', 'seizoenen': [8, 9, 10, 12, 13]}\n",
      "{'id': 95, 'voornaam': 'Mike', 'achternaam': 'Van Noteghem', 'seizoenen': [13, 14]}\n",
      "{'id': 96, 'voornaam': 'Mira', 'achternaam': 'Onbekend', 'seizoenen': [4, 5]}\n",
      "{'id': 97, 'voornaam': 'Mo', 'achternaam': 'Fawzi', 'seizoenen': [5, 6, 7, 8, 9, 10, 11, 12, 13, 14, 15, 16]}\n",
      "{'id': 98, 'voornaam': 'Nina', 'achternaam': 'Oostvoghels', 'seizoenen': [15, 16, 26, 27]}\n",
      "{'id': 99, 'voornaam': 'Nora', 'achternaam': 'Amrani', 'seizoenen': [26, 27, 28]}\n",
      "{'id': 100, 'voornaam': 'Olivia', 'achternaam': 'Hoefkens', 'seizoenen': [19, 20, 21, 22, 23, 24, 25, 26]}\n",
      "{'id': 101, 'voornaam': 'Paul', 'achternaam': 'Tibbax', 'seizoenen': [3]}\n",
      "{'id': 102, 'voornaam': 'Paulien', 'achternaam': 'Snackaert', 'seizoenen': [13, 14, 15, 16, 17, 18, 19, 20, 21, 22, 23, 24, 25, 26, 27, 28]}\n",
      "{'id': 103, 'voornaam': 'Peggy', 'achternaam': 'Verbeeck', 'seizoenen': [1, 2, 3, 4, 5, 6, 8, 12, 13, 14, 15, 16, 17, 18, 19, 20, 21, 22, 24]}\n",
      "{'id': 104, 'voornaam': 'Phile', 'achternaam': 'Ceulemans', 'seizoenen': [4]}\n",
      "{'id': 105, 'voornaam': 'Pierre', 'achternaam': 'Vinck', 'seizoenen': [5, 6]}\n",
      "{'id': 106, 'voornaam': 'Rafaël', 'achternaam': 'Campo', 'seizoenen': [16, 17]}\n",
      "{'id': 107, 'voornaam': 'Rebecca', 'achternaam': 'De Taeye', 'seizoenen': [2, 3]}\n",
      "{'id': 108, 'voornaam': 'Renzo', 'achternaam': 'Fierens', 'seizoenen': [10, 11, 20, 21, 22, 23]}\n",
      "{'id': 109, 'voornaam': 'Robert', 'achternaam': 'Swerts', 'seizoenen': [3, 7, 9, 10, 11]}\n",
      "{'id': 110, 'voornaam': 'Roger', 'achternaam': 'Van de Wiele', 'seizoenen': [2, 3, 4, 5, 6, 7, 8]}\n",
      "{'id': 111, 'voornaam': 'Sabine', 'achternaam': 'Verbist', 'seizoenen': [5, 6, 7]}\n",
      "{'id': 112, 'voornaam': 'Sam', 'achternaam': 'Bastiaens', 'seizoenen': [8, 9, 10, 11, 12, 13, 14]}\n",
      "{'id': 113, 'voornaam': 'Sandrine', 'achternaam': 'Verbeelen', 'seizoenen': [12, 13]}\n",
      "{'id': 114, 'voornaam': 'Senne', 'achternaam': 'Onbekend', 'seizoenen': [6, 7]}\n",
      "{'id': 115, 'voornaam': 'Sofie', 'achternaam': 'Bastiaens', 'seizoenen': [8, 9, 10, 11, 12, 13]}\n",
      "{'id': 116, 'voornaam': 'Stan', 'achternaam': 'Van Damme', 'seizoenen': [18, 19, 20, 21, 22, 23, 24, 25, 26]}\n",
      "{'id': 117, 'voornaam': 'Tania', 'achternaam': 'Tibergyn', 'seizoenen': [24, 25, 26, 27]}\n",
      "{'id': 118, 'voornaam': 'Tibo', 'achternaam': 'Timmermans', 'seizoenen': [17, 18, 19, 20]}\n",
      "{'id': 119, 'voornaam': 'Toon', 'achternaam': 'Vrancken', 'seizoenen': [19, 20, 21, 22]}\n",
      "{'id': 120, 'voornaam': 'Tuur', 'achternaam': 'Verbeeck', 'seizoenen': [11]}\n",
      "{'id': 121, 'voornaam': 'Valerie', 'achternaam': 'Wijndaele', 'seizoenen': [4, 5, 6, 7]}\n",
      "{'id': 122, 'voornaam': 'Veronique', 'achternaam': 'Van Sevenant', 'seizoenen': [2, 3, 4, 5, 6, 7, 8, 9, 10]}\n",
      "{'id': 123, 'voornaam': 'Vicky', 'achternaam': 'Van Aert', 'seizoenen': [28, 29]}\n",
      "{'id': 124, 'voornaam': 'Victor', 'achternaam': 'Corthout', 'seizoenen': [12, 13]}\n",
      "{'id': 125, 'voornaam': 'Walter', 'achternaam': 'De Decker', 'seizoenen': [1, 2]}\n",
      "{'id': 126, 'voornaam': 'Walter', 'achternaam': 'Frans', 'seizoenen': [9, 10, 11]}\n",
      "{'id': 127, 'voornaam': 'Werner', 'achternaam': 'Van Sevenant', 'seizoenen': [3, 4, 5, 6, 7, 8, 9, 10, 11, 12, 13]}\n",
      "{'id': 128, 'voornaam': 'Youssef', 'achternaam': 'Bakali', 'seizoenen': [12, 13]}\n",
      "{'id': 129, 'voornaam': 'Yves', 'achternaam': 'Akkermans', 'seizoenen': [4, 5, 6]}\n",
      "{'id': 130, 'voornaam': 'Yvette', 'achternaam': 'Backx', 'seizoenen': [7, 8, 9, 10, 11, 12, 13, 14, 15, 16, 17, 18, 19, 20, 21, 22]}\n",
      "{'id': 131, 'voornaam': 'Zihame', 'achternaam': 'Peeters', 'seizoenen': [26, 27, 28]}\n",
      "{'id': 132, 'voornaam': 'Abel', 'achternaam': 'Nauwelaers', 'seizoenen': [29]}\n",
      "{'id': 133, 'voornaam': 'Hannah', 'achternaam': 'Cremers', 'seizoenen': [21, 22, 23, 24, 25, 26, 27, 28, 29]}\n",
      "{'id': 134, 'voornaam': 'Jaan', 'achternaam': 'Bakkal', 'seizoenen': [26, 27, 28, 29]}\n",
      "{'id': 135, 'voornaam': 'Leo', 'achternaam': 'Vereken', 'seizoenen': [25, 26, 27, 28, 29]}\n",
      "{'id': 136, 'voornaam': 'Polly', 'achternaam': 'Bomans', 'seizoenen': [29]}\n",
      "{'id': 137, 'voornaam': 'Vic', 'achternaam': 'Vlerick', 'seizoenen': [22, 23, 24, 25, 26, 27, 28, 29]}\n",
      "{'id': 138, 'voornaam': 'Arne', 'achternaam': 'Guns', 'seizoenen': [21, 22, 23, 24]}\n",
      "{'id': 139, 'voornaam': 'Barbara', 'achternaam': 'Vinck', 'seizoenen': [15]}\n",
      "{'id': 140, 'voornaam': 'Bill', 'achternaam': 'De Witte', 'seizoenen': [24]}\n",
      "{'id': 141, 'voornaam': 'Bruno', 'achternaam': 'Moreels', 'seizoenen': [14, 15]}\n",
      "{'id': 142, 'voornaam': 'Carlos', 'achternaam': 'Bastiaens', 'seizoenen': [2, 3]}\n",
      "{'id': 143, 'voornaam': 'Claire', 'achternaam': 'Bastiaens', 'seizoenen': [2, 13, 14, 15]}\n",
      "{'id': 144, 'voornaam': 'Claire', 'achternaam': 'Boons', 'seizoenen': [8, 9]}\n",
      "{'id': 145, 'voornaam': 'Clio', 'achternaam': 'Moeyaerts', 'seizoenen': [3, 4]}\n",
      "{'id': 146, 'voornaam': 'Constant', 'achternaam': 'De Schrijver', 'seizoenen': [9, 10, 11]}\n",
      "{'id': 147, 'voornaam': 'David', 'achternaam': 'Magiels', 'seizoenen': [17, 18, 20, 22, 23, 24]}\n",
      "{'id': 148, 'voornaam': 'Fien', 'achternaam': 'Roels', 'seizoenen': [16, 17]}\n",
      "{'id': 149, 'voornaam': 'Freddie', 'achternaam': 'Colpaert', 'seizoenen': [15, 16]}\n",
      "{'id': 150, 'voornaam': 'Gitta', 'achternaam': 'Thys', 'seizoenen': [16, 17, 21]}\n",
      "{'id': 151, 'voornaam': 'Hélène', 'achternaam': 'Symons', 'seizoenen': [19, 20, 21]}\n",
      "{'id': 152, 'voornaam': 'Ivo', 'achternaam': 'Courtois', 'seizoenen': [17, 18, 19, 22]}\n",
      "{'id': 153, 'voornaam': 'Jelena', 'achternaam': 'Leshi', 'seizoenen': [15, 16]}\n",
      "{'id': 154, 'voornaam': 'Jessica', 'achternaam': 'Engels', 'seizoenen': [21, 22, 23]}\n",
      "{'id': 155, 'voornaam': 'Joseph', 'achternaam': 'Doumbia', 'seizoenen': [21, 22, 23]}\n",
      "{'id': 156, 'voornaam': 'Julie', 'achternaam': 'Van Sevenant', 'seizoenen': [6, 7, 11, 12, 13]}\n",
      "{'id': 157, 'voornaam': 'Junes', 'achternaam': 'Bakkal', 'seizoenen': [22, 23]}\n",
      "{'id': 158, 'voornaam': 'Kurt', 'achternaam': 'Van Damme', 'seizoenen': [18, 19]}\n",
      "{'id': 159, 'voornaam': 'Lena', 'achternaam': 'Blondeel', 'seizoenen': [19, 20, 21, 22]}\n",
      "{'id': 160, 'voornaam': 'Louis', 'achternaam': 'Vercammen', 'seizoenen': [1, 2]}\n",
      "{'id': 161, 'voornaam': 'Louise', 'achternaam': 'Goorman', 'seizoenen': [8, 9, 10]}\n",
      "{'id': 162, 'voornaam': 'Lucas', 'achternaam': 'De Grote', 'seizoenen': [19, 20, 21]}\n",
      "{'id': 163, 'voornaam': 'Lynn', 'achternaam': 'Courtois', 'seizoenen': [17, 18]}\n",
      "{'id': 164, 'voornaam': 'Maarten', 'achternaam': 'Reimers', 'seizoenen': [8, 9, 10, 11, 12]}\n",
      "{'id': 165, 'voornaam': 'Manon', 'achternaam': 'Raeman', 'seizoenen': [10]}\n",
      "{'id': 166, 'voornaam': 'Nand', 'achternaam': 'Reimers', 'seizoenen': [10, 11, 12, 13]}\n",
      "{'id': 167, 'voornaam': 'Neil', 'achternaam': 'Feyaerts', 'seizoenen': [1, 2, 3]}\n",
      "{'id': 168, 'voornaam': 'Ria', 'achternaam': 'Verbaendert', 'seizoenen': [9]}\n",
      "{'id': 169, 'voornaam': 'Robbe', 'achternaam': 'Cannaerts', 'seizoenen': [1, 2, 3, 5]}\n",
      "{'id': 170, 'voornaam': 'Robert', 'achternaam': 'Reimers', 'seizoenen': [8, 9, 10, 11, 12]}\n",
      "{'id': 171, 'voornaam': 'Ruben', 'achternaam': 'Huisman', 'seizoenen': [21, 22]}\n",
      "{'id': 172, 'voornaam': 'Sandrine', 'achternaam': 'De Decker', 'seizoenen': [14, 15, 16, 17, 18, 19, 20, 21, 22, 23, 24]}\n",
      "{'id': 173, 'voornaam': 'Sarah', 'achternaam': 'Wouters', 'seizoenen': [2, 3]}\n",
      "{'id': 174, 'voornaam': 'Steven', 'achternaam': 'Lambrechts', 'seizoenen': [22, 23, 24]}\n",
      "{'id': 175, 'voornaam': 'Stijn', 'achternaam': 'De Belder', 'seizoenen': [16, 17]}\n",
      "{'id': 176, 'voornaam': 'Wendy', 'achternaam': 'Stuyven', 'seizoenen': [20, 21, 22, 23]}\n",
      "{'id': 177, 'voornaam': 'William', 'achternaam': 'Degreef', 'seizoenen': [20, 21, 22]}\n",
      "{'id': 178, 'voornaam': 'Willy', 'achternaam': 'Pleysier', 'seizoenen': [7, 8, 9]}\n",
      "{'id': 179, 'voornaam': 'Yasmine', 'achternaam': 'Oostvoghels', 'seizoenen': [26, 27, 28, 29]}\n",
      "{'id': 180, 'voornaam': 'Zoë', 'achternaam': 'Kosinski', 'seizoenen': [23, 24]}\n",
      "{'id': 181, 'voornaam': 'Adam', 'achternaam': 'Kiabaté', 'seizoenen': [22]}\n",
      "{'id': 182, 'voornaam': 'Alex', 'achternaam': 'Walters', 'seizoenen': [8, 9]}\n",
      "{'id': 183, 'voornaam': 'Amber', 'achternaam': ' Van Gistel', 'seizoenen': [12, 13]}\n",
      "{'id': 184, 'voornaam': 'André', 'achternaam': 'Versteven', 'seizoenen': [16, 17, 18, 19, 20, 21]}\n",
      "{'id': 185, 'voornaam': 'Axel', 'achternaam': 'Verstraeten', 'seizoenen': [17]}\n",
      "{'id': 186, 'voornaam': 'Bert', 'achternaam': 'Onbekend', 'seizoenen': [7]}\n",
      "{'id': 187, 'voornaam': 'Bonnie', 'achternaam': 'Declerck', 'seizoenen': [11, 12]}\n",
      "{'id': 188, 'voornaam': 'Chiara', 'achternaam': 'Giampicollo', 'seizoenen': [22]}\n",
      "{'id': 189, 'voornaam': 'Dirk', 'achternaam': 'Onbekend', 'seizoenen': [1]}\n",
      "{'id': 190, 'voornaam': 'Eline', 'achternaam': 'Eelen', 'seizoenen': [16]}\n",
      "{'id': 191, 'voornaam': 'Elke', 'achternaam': 'Vervust', 'seizoenen': [1]}\n",
      "{'id': 192, 'voornaam': 'Filip', 'achternaam': 'Lamote', 'seizoenen': [15]}\n",
      "{'id': 193, 'voornaam': 'Floris', 'achternaam': 'Onbekend', 'seizoenen': [23, 24, 25]}\n",
      "{'id': 194, 'voornaam': 'François', 'achternaam': 'Chevalier', 'seizoenen': [2, 3]}\n",
      "{'id': 195, 'voornaam': 'Gaby', 'achternaam': 'Fontaine', 'seizoenen': [28]}\n",
      "{'id': 196, 'voornaam': 'Hanne', 'achternaam': 'Goris', 'seizoenen': [15]}\n",
      "{'id': 197, 'voornaam': 'Jean-Marie', 'achternaam': 'Onbekend', 'seizoenen': [15]}\n",
      "{'id': 198, 'voornaam': 'Jef', 'achternaam': 'Van Hout', 'seizoenen': [26, 27]}\n",
      "{'id': 199, 'voornaam': 'John', 'achternaam': 'De Brabander', 'seizoenen': [1]}\n",
      "{'id': 200, 'voornaam': 'Leon', 'achternaam': 'Raemaeckers', 'seizoenen': [1]}\n",
      "{'id': 201, 'voornaam': 'Margot', 'achternaam': 'Onbekend', 'seizoenen': [12]}\n",
      "{'id': 202, 'voornaam': 'Martha', 'achternaam': 'Onbekend', 'seizoenen': [17]}\n",
      "{'id': 203, 'voornaam': 'Max', 'achternaam': 'Maertens', 'seizoenen': [16, 17]}\n",
      "{'id': 204, 'voornaam': 'Nona', 'achternaam': 'Sareno', 'seizoenen': [12, 13, 14]}\n",
      "{'id': 205, 'voornaam': 'Renée', 'achternaam': 'Coppens', 'seizoenen': [21, 22, 23]}\n",
      "{'id': 206, 'voornaam': 'Sindi', 'achternaam': 'Onbekend', 'seizoenen': [12]}\n",
      "{'id': 207, 'voornaam': 'Thomas', 'achternaam': 'Onbekend', 'seizoenen': [19]}\n",
      "{'id': 208, 'voornaam': 'Wim', 'achternaam': 'Daniels', 'seizoenen': [11, 12]}\n",
      "{'id': 209, 'voornaam': 'Zosiane', 'achternaam': 'Pelckmans', 'seizoenen': [10]}\n"
     ]
    }
   ],
   "source": [
    "from thuis_db_utils import lees_personages\n",
    "\n",
    "for personage in lees_personages():\n",
    "    print(personage)"
   ]
  }
 ],
 "metadata": {
  "kernelspec": {
   "display_name": "Python 3",
   "language": "python",
   "name": "python3"
  },
  "language_info": {
   "codemirror_mode": {
    "name": "ipython",
    "version": 3
   },
   "file_extension": ".py",
   "mimetype": "text/x-python",
   "name": "python",
   "nbconvert_exporter": "python",
   "pygments_lexer": "ipython3",
   "version": "3.12.3"
  }
 },
 "nbformat": 4,
 "nbformat_minor": 2
}
