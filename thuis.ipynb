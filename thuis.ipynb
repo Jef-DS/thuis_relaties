{
 "cells": [
  {
   "cell_type": "code",
   "execution_count": 52,
   "metadata": {},
   "outputs": [],
   "source": [
    "from csv import DictReader\n",
    "\n",
    "from thuis_db_utils import init_db, bewaar_personage_lijst\n",
    "from thuis_html_utils import HOOFDPERSONAGE_CSV, NEVENPERSONAGE_CSV, GASTPERSONAGE_CSV\n",
    "\n",
    "personages = []\n",
    "with open(HOOFDPERSONAGE_CSV, mode='r', newline='', encoding='utf-8') as f:\n",
    "    reader = DictReader(f, delimiter=';')\n",
    "    for rij in reader:\n",
    "        personages.append(rij)\n",
    "\n",
    "with open(NEVENPERSONAGE_CSV, mode='r', newline='', encoding='utf-8') as f:\n",
    "    reader = DictReader(f, delimiter=';')\n",
    "    for rij in reader:\n",
    "        personages.append(rij)    \n",
    "\n",
    "with open(GASTPERSONAGE_CSV, mode='r', newline='', encoding='utf-8') as f:\n",
    "    reader = DictReader(f, delimiter=';')\n",
    "    for rij in reader:\n",
    "        personages.append(rij)  \n",
    "\n",
    "init_db()\n",
    "bewaar_personage_lijst(personages)\n"
   ]
  },
  {
   "cell_type": "code",
   "execution_count": 55,
   "metadata": {},
   "outputs": [],
   "source": [
    "from csv import DictReader, DictWriter\n",
    "from typing import _TypedDict\n",
    "\n",
    "from thuis_db_utils import lees_personages_voornaam\n",
    "from thuis_html_utils import RELATIES_NAMEN_CSV\n",
    "\n",
    "RELATIES_NRS_CSV = 'relaties_nrs.csv'\n",
    "\n",
    "class RelatieNrs(_TypedDict):\n",
    "    seizoen:int\n",
    "    persoon_nr1:int\n",
    "    persoon_nr2:int\n",
    "\n",
    "RELATIE_NRS_HEADERS = list(RelatieNrs.__annotations__.keys())\n",
    "\n",
    "def zoek_nr(voornaam:str, seizoen:int) -> int:\n",
    "    personages = lees_personages_voornaam(voornaam)\n",
    "    for personage in personages:\n",
    "        if seizoen in personage['seizoenen']:\n",
    "            return personage['id'] -1\n",
    "    print(personages)\n",
    "    raise Exception(f'Personage niet gevonden {voornaam} ({seizoen})')\n",
    "\n",
    "relatie_namen = []\n",
    "with open(RELATIES_NAMEN_CSV, mode='r', newline='', encoding='utf-8') as f:\n",
    "    reader = DictReader(f, delimiter=';')\n",
    "    for rij in reader:\n",
    "        relatie_namen.append(rij)\n",
    "\n",
    "relatie_nrs = []\n",
    "for relatie in relatie_namen:\n",
    "    persoon_nr1 = zoek_nr(relatie['persoon_1'], int(relatie['seizoen']))\n",
    "    persoon_nr2 = zoek_nr(relatie['persoon_2'], int(relatie['seizoen']))\n",
    "    relatie_nrs.append({'persoon_nr1':persoon_nr1, 'persoon_nr2':persoon_nr2, 'seizoen':relatie['seizoen']})\n",
    "\n",
    "with open(RELATIES_NRS_CSV, mode='w', newline='', encoding='utf-8') as f:\n",
    "    writer = DictWriter(f, delimiter=';', fieldnames= RELATIE_NRS_HEADERS)\n",
    "    writer.writeheader()\n",
    "    writer.writerows(relatie_nrs)"
   ]
  }
 ],
 "metadata": {
  "kernelspec": {
   "display_name": "Python 3",
   "language": "python",
   "name": "python3"
  },
  "language_info": {
   "codemirror_mode": {
    "name": "ipython",
    "version": 3
   },
   "file_extension": ".py",
   "mimetype": "text/x-python",
   "name": "python",
   "nbconvert_exporter": "python",
   "pygments_lexer": "ipython3",
   "version": "3.12.3"
  }
 },
 "nbformat": 4,
 "nbformat_minor": 2
}
