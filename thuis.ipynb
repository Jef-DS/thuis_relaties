{
 "cells": [
  {
   "cell_type": "markdown",
   "metadata": {},
   "source": [
    "# Analyseer de relaties in Thuis\n",
    "\n",
    "## Lees relaties van de website en bewaar ze in CSV-bestanden\n",
    "\n",
    "De functie extract_relaties():\n",
    "1. downloadt het relatiebestand van [de relatiepagina van de Thuis fanwebsite](https://nergensbeterdanthuis.fandom.com/nl/wiki/Relaties)\n",
    "1. leest de HTML-code en bewaar ze in relaties_namen.csv"
   ]
  },
  {
   "cell_type": "code",
   "execution_count": 1,
   "metadata": {},
   "outputs": [],
   "source": [
    "from thuis_html_utils import extract_relaties\n",
    "\n",
    "extract_relaties(download=False)  #Verander in True wanneer het bestand niet bestaat in de cache"
   ]
  },
  {
   "cell_type": "markdown",
   "metadata": {},
   "source": [
    "## Lees personages en bewaar in CSV-bestanden\n",
    "\n",
    "Er zijn hoofd-, neven- en gastpersonages. De extract-functies voor hoofd- en nevenpersonages werken zoals extract_relaties()\n",
    "\n",
    "Omdat de structuur van de gastpersonages heel inconsequent is, worden gastpersonages niet automatisch gelezen van de website. De functie extract_gastpersonages bewaart de gastpersonages die nodig zijn voor de relaties in een CSV-bestand. Wanneer later zou blijken dat er nog gastpersonages ontbreken, moeten die manueel aangevuld worden in de functie extract_gastpersonages. Aangezien gastpersonages niet van de website worden gelezen, is er ook geen *download*-parameter\n",
    "\n",
    "Op termijn kan het nodig zijn om gastpersonages toch te lezen van de website."
   ]
  },
  {
   "cell_type": "code",
   "execution_count": 2,
   "metadata": {},
   "outputs": [],
   "source": [
    "from thuis_html_utils import extract_hoofdpersonages, extract_nevenpersonages, extract_gastpersonages\n",
    "\n",
    "extract_hoofdpersonages(download=False)\n",
    "extract_nevenpersonages(download=False)\n",
    "extract_gastpersonages()"
   ]
  },
  {
   "cell_type": "markdown",
   "metadata": {},
   "source": [
    "### Bewaar personages in een databank\n",
    "\n",
    "Lees de drie CSV-bestanden (hoofd-, neven- en gastpersonages) en bewaar ze in een sqlitedatabank"
   ]
  },
  {
   "cell_type": "code",
   "execution_count": 3,
   "metadata": {},
   "outputs": [],
   "source": [
    "from csv import DictReader\n",
    "\n",
    "from thuis_db_utils import init_db, bewaar_personage_lijst\n",
    "from thuis_html_utils import HOOFDPERSONAGE_CSV, NEVENPERSONAGE_CSV, GASTPERSONAGE_CSV\n",
    "\n",
    "personages = []\n",
    "with open(HOOFDPERSONAGE_CSV, mode='r', newline='', encoding='utf-8') as f:\n",
    "    reader = DictReader(f, delimiter=';')\n",
    "    for rij in reader:\n",
    "        personages.append(rij)\n",
    "\n",
    "with open(NEVENPERSONAGE_CSV, mode='r', newline='', encoding='utf-8') as f:\n",
    "    reader = DictReader(f, delimiter=';')\n",
    "    for rij in reader:\n",
    "        personages.append(rij)    \n",
    "\n",
    "with open(GASTPERSONAGE_CSV, mode='r', newline='', encoding='utf-8') as f:\n",
    "    reader = DictReader(f, delimiter=';')\n",
    "    for rij in reader:\n",
    "        personages.append(rij)  \n",
    "\n",
    "init_db()\n",
    "bewaar_personage_lijst(personages)\n"
   ]
  },
  {
   "cell_type": "markdown",
   "metadata": {},
   "source": [
    "## Maak een relatiebestand met unieke ID's\n",
    "\n",
    "Het bestand *relaties_namen.csv* bevat alleen de voornamen van de personages. Er zijn personages met dezelfde voornaam. Daarom maken we een bestand *relaties_nrs.csv* waarin elke voornaam vervangen is door de unieke ID van het personage in de databank.\n",
    "\n",
    "We gaan ervan uit dat de scenaristen van _Thuis_ geen verwarring willen veroorzaken door in één seizoen twee personages met dezelfde voornaam te hebben. Daarom kunnen we een voornaam koppelen aan een uniek personages door de voornaam en het seizoen van de relatie te gebruiken.\n",
    "\n",
    "\n",
    "Deze code kan een Exception geven wanneer de combinatie van voornaam en seizoen niet bestaat in de databank. "
   ]
  },
  {
   "cell_type": "code",
   "execution_count": 4,
   "metadata": {},
   "outputs": [],
   "source": [
    "from csv import DictReader, DictWriter\n",
    "from typing import _TypedDict\n",
    "\n",
    "from thuis_db_utils import lees_personages_voornaam\n",
    "from thuis_html_utils import RELATIES_NAMEN_CSV\n",
    "\n",
    "RELATIES_NRS_CSV = 'relaties_nrs.csv'\n",
    "\n",
    "class RelatieNrs(_TypedDict):\n",
    "    seizoen:int\n",
    "    persoon_nr1:int\n",
    "    persoon_nr2:int\n",
    "\n",
    "RELATIE_NRS_HEADERS = list(RelatieNrs.__annotations__.keys())\n",
    "\n",
    "def zoek_nr(voornaam:str, seizoen:int) -> int:\n",
    "    personages = lees_personages_voornaam(voornaam)\n",
    "    for personage in personages:\n",
    "        if seizoen in personage['seizoenen']:\n",
    "            return personage['id'] -1\n",
    "    print(personages)\n",
    "    raise Exception(f'Personage niet gevonden {voornaam} ({seizoen})')\n",
    "\n",
    "relatie_namen = []\n",
    "with open(RELATIES_NAMEN_CSV, mode='r', newline='', encoding='utf-8') as f:\n",
    "    reader = DictReader(f, delimiter=';')\n",
    "    for rij in reader:\n",
    "        relatie_namen.append(rij)\n",
    "\n",
    "relatie_nrs = []\n",
    "for relatie in relatie_namen:\n",
    "    persoon_nr1 = zoek_nr(relatie['persoon_1'], int(relatie['seizoen']))\n",
    "    persoon_nr2 = zoek_nr(relatie['persoon_2'], int(relatie['seizoen']))\n",
    "    relatie_nrs.append({'persoon_nr1':persoon_nr1, 'persoon_nr2':persoon_nr2, 'seizoen':relatie['seizoen']})\n",
    "\n",
    "with open(RELATIES_NRS_CSV, mode='w', newline='', encoding='utf-8') as f:\n",
    "    writer = DictWriter(f, delimiter=';', fieldnames= RELATIE_NRS_HEADERS)\n",
    "    writer.writeheader()\n",
    "    writer.writerows(relatie_nrs)"
   ]
  },
  {
   "cell_type": "markdown",
   "metadata": {},
   "source": [
    "## Grafennotatie\n",
    "\n",
    "Een *graaf* bestaat uit een reeks knopen (*vertices*) die verbonden zijn door lijnen (*edges*). Twee knopen zijn verbonden als er een lijn bestaat tussen de knopen. In ons geval zijn de knopen de personages en de lijnen de relaties. Een eenvoudige voorstelling van de relaties in _Thuis_ in Python kan bestaan uit een dictionary waarbij de personages de keys zijn. De value van elke key zijn de personen waarmee het personage een relatie had\n",
    "\n",
    "### Stap1: relatiebestand lezen\n",
    "\n",
    "In deze stap lezen we het bestand 'relaties_nrs.csv'. Wanneer het bestand al bestaat, moeten de vorige cellen niet uitgevoerd worden."
   ]
  },
  {
   "cell_type": "code",
   "execution_count": 1,
   "metadata": {},
   "outputs": [
    {
     "data": {
      "text/plain": [
       "[{'seizoen': 1, 'persoon_nr1': 9, 'persoon_nr2': 68},\n",
       " {'seizoen': 1, 'persoon_nr1': 124, 'persoon_nr2': 13},\n",
       " {'seizoen': 1, 'persoon_nr1': 34, 'persoon_nr2': 102},\n",
       " {'seizoen': 1, 'persoon_nr1': 9, 'persoon_nr2': 21},\n",
       " {'seizoen': 1, 'persoon_nr1': 199, 'persoon_nr2': 32}]"
      ]
     },
     "execution_count": 1,
     "metadata": {},
     "output_type": "execute_result"
    }
   ],
   "source": [
    "from csv import DictReader\n",
    "\n",
    "RELATIES_NRS_CSV = 'relaties_nrs.csv'\n",
    "\n",
    "relatie_list = []\n",
    "with open(RELATIES_NRS_CSV, mode='r', newline='', encoding='utf-8') as f:\n",
    "    reader = DictReader(f, delimiter=';')\n",
    "    for rij in reader:\n",
    "        relatie_list.append({key:int(value) for (key,value) in rij.items()})\n",
    "\n",
    "relatie_list[:5]"
   ]
  },
  {
   "cell_type": "markdown",
   "metadata": {},
   "source": [
    "### Stap2: Een dictionary met relaties\n",
    "\n",
    "Maak een lijst met dictionaries: key = personage_nr, value= unieke set met personages waarmee het personage een relatie heeft gehad"
   ]
  },
  {
   "cell_type": "code",
   "execution_count": 6,
   "metadata": {},
   "outputs": [
    {
     "data": {
      "text/plain": [
       "defaultdict(set,\n",
       "            {9: {21, 68, 73, 186},\n",
       "             68: {9, 46, 123, 124, 141, 177},\n",
       "             124: {13, 18, 68},\n",
       "             13: {55, 67, 80, 108, 124, 125, 134, 146, 151},\n",
       "             34: {39, 102},\n",
       "             102: {16, 25, 34, 79, 107, 128, 168, 184},\n",
       "             21: {9, 28, 59, 85, 96, 196},\n",
       "             199: {32},\n",
       "             32: {67, 84, 92, 112, 116, 138, 153, 164, 199, 201},\n",
       "             166: {36},\n",
       "             36: {25, 96, 126, 166},\n",
       "             188: {18},\n",
       "             18: {28, 44, 63, 85, 124, 128, 173, 188},\n",
       "             57: {61},\n",
       "             61: {57, 193},\n",
       "             25: {10, 11, 36, 102, 106, 162, 172},\n",
       "             39: {34, 126},\n",
       "             168: {102},\n",
       "             200: {52},\n",
       "             52: {109, 200},\n",
       "             190: {198},\n",
       "             198: {190},\n",
       "             84: {32, 121},\n",
       "             121: {84, 96},\n",
       "             106: {25},\n",
       "             109: {52},\n",
       "             141: {68},\n",
       "             193: {61},\n",
       "             53: {48},\n",
       "             48: {53, 65, 104, 113, 126, 128, 163},\n",
       "             79: {102},\n",
       "             85: {18, 21, 62, 73, 81, 89},\n",
       "             81: {85, 128},\n",
       "             126: {36, 39, 48, 90, 120},\n",
       "             172: {25},\n",
       "             46: {68, 167},\n",
       "             128: {18, 48, 81, 102},\n",
       "             67: {13, 32},\n",
       "             71: {62, 95},\n",
       "             95: {71},\n",
       "             120: {126},\n",
       "             104: {48},\n",
       "             54: {31},\n",
       "             31: {6, 41, 54},\n",
       "             43: {83},\n",
       "             83: {43},\n",
       "             113: {48, 89},\n",
       "             89: {85, 93, 113, 181},\n",
       "             185: {110},\n",
       "             110: {185},\n",
       "             28: {18, 21, 23, 73, 92},\n",
       "             62: {71, 85},\n",
       "             181: {89},\n",
       "             47: {90},\n",
       "             90: {33, 47, 126},\n",
       "             65: {48},\n",
       "             177: {68},\n",
       "             111: {8, 30, 45, 206},\n",
       "             8: {16, 24, 26, 77, 94, 105, 111, 208},\n",
       "             169: {91},\n",
       "             91: {108, 169},\n",
       "             167: {46},\n",
       "             41: {31, 42, 73, 160, 209},\n",
       "             160: {41},\n",
       "             6: {14, 31, 202},\n",
       "             14: {4, 6},\n",
       "             93: {89},\n",
       "             96: {21, 36, 78, 121},\n",
       "             108: {13, 91},\n",
       "             33: {90},\n",
       "             209: {41},\n",
       "             164: {32},\n",
       "             125: {13},\n",
       "             30: {111, 127},\n",
       "             64: {35},\n",
       "             35: {64},\n",
       "             119: {70},\n",
       "             70: {119},\n",
       "             107: {40, 102, 114},\n",
       "             114: {16, 107},\n",
       "             208: {8},\n",
       "             186: {9},\n",
       "             112: {32},\n",
       "             45: {111},\n",
       "             75: {182, 204},\n",
       "             182: {75},\n",
       "             163: {48},\n",
       "             123: {68},\n",
       "             201: {32},\n",
       "             206: {111},\n",
       "             73: {9, 28, 41, 56, 85},\n",
       "             42: {41},\n",
       "             204: {75},\n",
       "             69: {101, 147, 158},\n",
       "             101: {0, 38, 69, 77, 105},\n",
       "             94: {8},\n",
       "             16: {8, 97, 102, 114, 122},\n",
       "             127: {30},\n",
       "             24: {8, 19, 76, 149},\n",
       "             76: {24, 174, 191},\n",
       "             55: {13, 142, 150},\n",
       "             142: {55},\n",
       "             78: {96},\n",
       "             80: {13, 129},\n",
       "             129: {80, 183},\n",
       "             138: {32},\n",
       "             191: {76},\n",
       "             74: {5, 77, 117, 189, 195, 203, 207},\n",
       "             195: {74},\n",
       "             59: {21},\n",
       "             196: {21},\n",
       "             38: {66, 101, 162},\n",
       "             97: {16},\n",
       "             183: {87, 129},\n",
       "             87: {183},\n",
       "             92: {28, 32, 56},\n",
       "             189: {74},\n",
       "             203: {74},\n",
       "             147: {69},\n",
       "             174: {76},\n",
       "             149: {24},\n",
       "             105: {8, 101},\n",
       "             184: {102},\n",
       "             66: {12, 37, 38, 118},\n",
       "             162: {25, 38},\n",
       "             146: {13},\n",
       "             202: {6},\n",
       "             117: {74},\n",
       "             56: {73, 92},\n",
       "             10: {25, 63},\n",
       "             12: {7, 27, 66, 99},\n",
       "             151: {13},\n",
       "             19: {24},\n",
       "             0: {3, 101},\n",
       "             99: {12, 137},\n",
       "             207: {74},\n",
       "             158: {69},\n",
       "             118: {22, 66, 175},\n",
       "             175: {118},\n",
       "             150: {55, 176},\n",
       "             40: {107, 180},\n",
       "             37: {3, 22, 66},\n",
       "             115: {205},\n",
       "             205: {115},\n",
       "             22: {37, 118},\n",
       "             176: {150},\n",
       "             4: {14},\n",
       "             153: {32},\n",
       "             77: {8, 74, 101},\n",
       "             173: {11, 18},\n",
       "             11: {25, 173},\n",
       "             180: {40},\n",
       "             137: {7, 99},\n",
       "             170: {187},\n",
       "             187: {170},\n",
       "             7: {2, 12, 72, 137, 192, 197},\n",
       "             116: {32},\n",
       "             5: {74},\n",
       "             192: {7},\n",
       "             3: {0, 37},\n",
       "             63: {10, 18},\n",
       "             23: {28, 58},\n",
       "             27: {12, 197},\n",
       "             72: {7, 15},\n",
       "             197: {7, 27},\n",
       "             58: {23},\n",
       "             15: {72},\n",
       "             60: {20},\n",
       "             20: {60},\n",
       "             134: {13},\n",
       "             122: {16},\n",
       "             26: {8},\n",
       "             44: {18},\n",
       "             1: {131, 194},\n",
       "             194: {1},\n",
       "             2: {7},\n",
       "             131: {1}})"
      ]
     },
     "execution_count": 6,
     "metadata": {},
     "output_type": "execute_result"
    }
   ],
   "source": [
    "from collections import defaultdict\n",
    "\n",
    "relatie_dict = defaultdict(set)\n",
    "def add_p2_to_p1(relatie_dict:dict,  p1:int, p2: int):\n",
    "    if relatie_dict.get(p1) is None:\n",
    "        relatie_dict[p1] = set()\n",
    "    relatie_dict[p1].add(p2)\n",
    "\n",
    "for relatie in relatie_list:\n",
    "    p1 = relatie['persoon_nr1']\n",
    "    p2 = relatie['persoon_nr2']\n",
    "    relatie_dict[p1].add(p2)\n",
    "    relatie_dict[p2].add(p1)\n",
    "\n",
    "relatie_dict"
   ]
  },
  {
   "cell_type": "markdown",
   "metadata": {},
   "source": [
    "### Stap3: Pesonages sorteren op aantal relaties\n",
    "\n",
    "Maak een lijst met personages_nrs gesorteerd op basis van het aantal relaties (van groot aantal naar klein aantal)"
   ]
  },
  {
   "cell_type": "code",
   "execution_count": 22,
   "metadata": {},
   "outputs": [
    {
     "name": "stdout",
     "output_type": "stream",
     "text": [
      "32 10\n",
      "13 9\n",
      "102 8\n",
      "18 8\n",
      "8 8\n",
      "25 7\n",
      "48 7\n",
      "74 7\n",
      "68 6\n",
      "21 6\n"
     ]
    }
   ],
   "source": [
    "gesorteerde_keys = sorted(relatie_dict, key=lambda key: len(relatie_dict[key]), reverse=True)\n",
    "\n",
    "for key in gesorteerde_keys[:10]:\n",
    "    print(key, len(relatie_dict[key]))"
   ]
  },
  {
   "cell_type": "markdown",
   "metadata": {},
   "source": [
    "### Stap4: Koppel namen aan de ID's\n",
    "\n",
    "Gebruik de ID's van de vorige lijst om in de databank de naam te zoeken van het personage. We maken eerst een dictionary op basis van de ID om efficiënt te kunnen zoeken:\n",
    "\n",
    "**Let op**: De ID's in de databank beginnen bij 1. De ID's in het relatiebestand beginnen bij 0"
   ]
  },
  {
   "cell_type": "code",
   "execution_count": 28,
   "metadata": {},
   "outputs": [
    {
     "name": "stdout",
     "output_type": "stream",
     "text": [
      "(0, 'Adil Bakkal')\n",
      "(1, 'Britt Van Noteghem')\n",
      "(2, 'Cédric Barry')\n",
      "(3, 'Christine Leysen')\n",
      "(4, 'Dieter Van Aert')\n",
      "(5, 'Dries Van Aken')\n",
      "(6, 'Eddy Van Noteghem')\n",
      "(7, 'Emma Van Damme')\n",
      "(8, 'Femke De Grote')\n",
      "(9, 'Frank Bomans')\n"
     ]
    }
   ],
   "source": [
    "from collections import defaultdict\n",
    "from thuis_db_utils import lees_personages\n",
    "from itertools import islice\n",
    "\n",
    "personages = lees_personages()\n",
    "personages_by_id = defaultdict()\n",
    "for personage in personages:\n",
    "    personages_by_id[personage['id']-1]=personage['voornaam'] + \" \" + personage['achternaam'] #nrs in bestand beginnen bij 0, in databank begint id bij 1\n",
    "\n",
    "for personage in islice(personages_by_id.items(), 10):\n",
    "    print(personage)"
   ]
  },
  {
   "cell_type": "markdown",
   "metadata": {},
   "source": [
    "### Stap 5: toon de 25 personages met de meeste relaties\n",
    "\n",
    "We kunnen de gesorteerde keys nu gebruiken om een lijst te tonen van namen en hun aantal relaties.\n",
    "\n",
    "Het personages met de meeste relaties in _Thuis_ is Dr. Ann De Decker."
   ]
  },
  {
   "cell_type": "code",
   "execution_count": 32,
   "metadata": {},
   "outputs": [
    {
     "name": "stdout",
     "output_type": "stream",
     "text": [
      "Ann De Decker 10\n",
      "Marianne Bastiaens 9\n",
      "Peggy Verbeeck 8\n",
      "Rosa Verbeeck 8\n",
      "Femke De Grote 8\n",
      "Tom De Decker 7\n",
      "Eva Verbist 7\n",
      "Kaat Bomans 7\n",
      "Jenny Verbeeck 6\n",
      "Simonne Backx 6\n",
      "Luc Bomans 6\n",
      "Emma Van Damme 6\n",
      "Werner Van Sevenant 5\n",
      "Waldek Kosinski 5\n",
      "Cois Pelckmans 5\n",
      "Julia Van Capelle 5\n",
      "Paulien Snackaert 5\n",
      "Peter Vlerick 5\n",
      "Frank Bomans 4\n",
      "Bianca Bomans 4\n",
      "Yves Akkermans 4\n",
      "Marie Van Goethem 4\n",
      "Sam Bastiaens 4\n",
      "Mo Fawzi 4\n",
      "Tim Cremers 4\n"
     ]
    }
   ],
   "source": [
    "for key in gesorteerde_keys[:25]:\n",
    "    print(personages_by_id[key], len(relatie_dict[key]))"
   ]
  },
  {
   "cell_type": "markdown",
   "metadata": {},
   "source": [
    "## Een alternatieve manier via numpy matrices\n",
    "\n",
    "We stellen een _adjacency_-matrix op: de rijen en de kolommen worden gevormd door de personages. Wanneer twee personen een relatie hebben, zetten we op de kruising tussen de rij en kolom van die personages een 1. Anders staat er een 0. Aangezien een relatie symmetrisch is, zal de matrix ook symmetrisch zijn. Omdat er verschillende seizoenen zijn, zullen we een driedimensionele matrix maken: (seizoen, personage1, personage2).\n",
    "\n",
    "Let op: personagenummers beginnen bij 0. Ze kunnen dus meteen als index voor rijen en kolommen gebruikt worden. De nummers van de seizoenen beginnen echter vanaf 1.\n",
    "\n",
    "### Stap 1: lees de gegevens van het CSV-bestand\n",
    "\n",
    "We lezen de gegevens van het .csv-bestand en berekenen het aantal seizoenen (eerste kolom) en de hoogste indes van de personages"
   ]
  },
  {
   "cell_type": "code",
   "execution_count": 10,
   "metadata": {},
   "outputs": [
    {
     "name": "stdout",
     "output_type": "stream",
     "text": [
      "aantal_seizoenen = 29\n",
      "hoogste_personage_index = 209\n"
     ]
    }
   ],
   "source": [
    "import numpy as np\n",
    "\n",
    "RELATIES_NRS_CSV = 'relaties_nrs.csv'\n",
    "\n",
    "relatie_arr = np.genfromtxt(RELATIES_NRS_CSV, dtype=np.uint8, delimiter=\";\", skip_header=1)\n",
    "aantal_seizoenen = np.max(relatie_arr[:, 0])\n",
    "hoogste_personage_index = np.max(relatie_arr)\n",
    "print(f\"{aantal_seizoenen = }\")\n",
    "print(f\"{hoogste_personage_index = }\")"
   ]
  },
  {
   "cell_type": "markdown",
   "metadata": {},
   "source": [
    "### Stap 2: adjacency-matrix opstellen\n",
    "\n",
    "Aangezien de meeste elementen 0 zullen zijn, beginnen we met een zero-matrix. Let op met het verschil tussen _aantal_ (antal_seizoenen) en _index_ (hoogste_personage_index)\n",
    "\n",
    "Nadat de matrix is gemaakt, overlopen we de relaties en zetten op de plaats van de relatie een 1. "
   ]
  },
  {
   "cell_type": "code",
   "execution_count": 25,
   "metadata": {},
   "outputs": [
    {
     "data": {
      "text/plain": [
       "1"
      ]
     },
     "execution_count": 25,
     "metadata": {},
     "output_type": "execute_result"
    }
   ],
   "source": [
    "adjacency_arr = np.zeros((aantal_seizoenen, hoogste_personage_index+1, hoogste_personage_index+1),dtype=np.uint8)\n",
    "for relatie in relatie_arr:\n",
    "    adjacency_arr[relatie[0]-1, relatie[1], relatie[2]] = 1\n",
    "    adjacency_arr[relatie[0]-1, relatie[2], relatie[1]] = 1\n",
    "adjacency_arr[0,9,68]"
   ]
  },
  {
   "cell_type": "markdown",
   "metadata": {},
   "source": [
    "### Stap 3: Relaties combineren over de seizoenen heen\n",
    "\n",
    "Omdat we relaties willen analyseren over alle seizoenen heen, maken we een nieuwe matrix[aantal_personages, aantan_personages]. Wanneer twee personages ooit een relatie hebben gehad, staat er een 1 op de kruising tussen rij en kolom. "
   ]
  },
  {
   "cell_type": "code",
   "execution_count": 26,
   "metadata": {},
   "outputs": [
    {
     "name": "stdout",
     "output_type": "stream",
     "text": [
      "class:  ndarray\n",
      "shape:  (210, 210)\n",
      "strides:  (210, 1)\n",
      "itemsize:  1\n",
      "aligned:  True\n",
      "contiguous:  True\n",
      "fortran:  False\n",
      "data pointer: 0x198a9992440\n",
      "byteorder:  little\n",
      "byteswap:  False\n",
      "type: uint8\n"
     ]
    }
   ],
   "source": [
    "adjacency_totaal_arr = adjacency_arr.any(0).astype(dtype=np.uint8, casting='safe', copy=False)\n",
    "np.info(adjacency_totaal_arr)"
   ]
  },
  {
   "cell_type": "markdown",
   "metadata": {},
   "source": [
    "### Stap 4: Aantal verschillende relaties tellen\n",
    "\n",
    "Om het aantal relaties te weten dat een bepaald personage heeft gehad, tellen we de waarden per kolom op (over de rijen: axis=0). We hadden natuurlijk even goed de waarden per rij kunnen optellen aangezien de matrix symmetrisch is. "
   ]
  },
  {
   "cell_type": "code",
   "execution_count": 34,
   "metadata": {},
   "outputs": [
    {
     "data": {
      "text/plain": [
       "array([ 2,  2,  1,  2,  1,  1,  3,  6,  8,  4,  2,  2,  4,  9,  2,  1,  5,\n",
       "        0,  8,  1,  1,  6,  2,  2,  4,  7,  1,  2,  5,  0,  2,  3, 10,  1,\n",
       "        2,  1,  4,  3,  3,  2,  2,  5,  1,  1,  1,  1,  2,  1,  7,  0,  0,\n",
       "        0,  2,  1,  1,  3,  2,  1,  1,  1,  1,  2,  2,  2,  1,  1,  4,  2,\n",
       "        6,  3,  1,  2,  2,  5,  7,  2,  3,  3,  1,  1,  2,  2,  0,  1,  2,\n",
       "        6,  0,  1,  0,  4,  3,  2,  3,  1,  1,  1,  4,  1,  0,  2,  0,  5,\n",
       "        8,  0,  1,  2,  1,  3,  2,  1,  1,  4,  1,  2,  2,  1,  1,  1,  3,\n",
       "        1,  1,  2,  1,  1,  3,  1,  5,  1,  4,  2,  0,  1,  0,  0,  1,  0,\n",
       "        0,  2,  1,  0,  0,  1,  1,  0,  0,  0,  1,  1,  0,  1,  2,  1,  0,\n",
       "        1,  0,  0,  0,  0,  1,  0,  1,  0,  2,  1,  1,  0,  1,  1,  1,  1,\n",
       "        1,  0,  1,  2,  1,  1,  1,  1,  0,  0,  1,  1,  1,  2,  1,  1,  1,\n",
       "        1,  1,  1,  1,  1,  1,  1,  1,  1,  1,  2,  1,  1,  1,  1,  1,  1,\n",
       "        1,  1,  1,  1,  1,  1], dtype=uint32)"
      ]
     },
     "execution_count": 34,
     "metadata": {},
     "output_type": "execute_result"
    }
   ],
   "source": [
    "aantal_relaties_per_personage = adjacency_totaal_arr.sum(axis=0)\n",
    "aantal_relaties_per_personage"
   ]
  },
  {
   "cell_type": "markdown",
   "metadata": {},
   "source": [
    "### Stap 5: sorteren van het aantal relaties en koppelen aan personagens\n",
    "\n",
    "We lezen de personages uit de databank en maken een index (dictionary) op ID. (let op: id in databank begint niet bij 0).\n",
    "\n",
    "Vervolgens sorteren we de het aantal relaties per personage (omgekeerd, dus van groot naar klein). We komen exact hetzelfde resultaat uit als bij de grafe-notatie"
   ]
  },
  {
   "cell_type": "code",
   "execution_count": 35,
   "metadata": {},
   "outputs": [
    {
     "name": "stdout",
     "output_type": "stream",
     "text": [
      "Ann De Decker 10\n",
      "Marianne Bastiaens 9\n",
      "Rosa Verbeeck 8\n",
      "Peggy Verbeeck 8\n",
      "Femke De Grote 8\n",
      "Kaat Bomans 7\n",
      "Tom De Decker 7\n",
      "Eva Verbist 7\n",
      "Jenny Verbeeck 6\n",
      "Luc Bomans 6\n",
      "Simonne Backx 6\n",
      "Emma Van Damme 6\n",
      "Waldek Kosinski 5\n",
      "Werner Van Sevenant 5\n",
      "Paulien Snackaert 5\n",
      "Peter Vlerick 5\n",
      "Cois Pelckmans 5\n",
      "Julia Van Capelle 5\n",
      "Tim Cremers 4\n",
      "Yves Akkermans 4\n",
      "Bianca Bomans 4\n",
      "Marie Van Goethem 4\n",
      "Mo Fawzi 4\n",
      "Frank Bomans 4\n",
      "Sam Bastiaens 4\n"
     ]
    }
   ],
   "source": [
    "from collections import defaultdict\n",
    "from thuis_db_utils import lees_personages\n",
    "\n",
    "personages = lees_personages()\n",
    "personages_by_id = defaultdict()\n",
    "for personage in personages:\n",
    "    personages_by_id[personage['id']-1]=personage['voornaam'] + \" \" + personage['achternaam'] #nrs in bestand beginnen bij 0, in databank begint id bij 1\n",
    "\n",
    "gesorteerde_keys = np.argsort(aantal_relaties_per_personage)[::-1]\n",
    "for key in gesorteerde_keys[:25]:\n",
    "    print(personages_by_id[key], aantal_relaties_per_personage[key])\n",
    "    "
   ]
  },
  {
   "cell_type": "markdown",
   "metadata": {},
   "source": [
    "## Adjacency-matrix en matrix-vermenigvuldiging\n",
    "\n",
    "We kunnen de _adjacency_-matrix beschouwen als een transformatiematrix die een personage-vector mapt naar een personage-vextor met alle gerelateerde personages. Met andere woorden: waar komen we terecht wanneer we voor een personage alle relatiepaden volgen. Wanneer we de _adjacency_-matrix met zichzelf vermendivuldigen, zien we waar we in twee stappen terechtkomen. \n",
    "\n",
    "Relaties zijn symmetrisch. Als personage_1 een relatie heeft met personage_2 dan heeft personage_2 ook een relatie met personage_1. Een \"relatiestap zetten\" lan ook inhouden dat we een stap terugzetten, naar het oorspronkelijke personage. Wanneer het oorspronkelijke personage 1 relatie heeft, is er 1 manier om bij het personage terug te geraken. Wanneer het oorspronkelijke personage 2 relaties heeft, zijn er twee manieren om bij het personage terug te geraken.\n",
    "\n",
    "Wanneer we de _adjacency_-matrix met zichzelf vermenigvuldigen, zien we op de diagonaal het aantal relaties voor elk personage. "
   ]
  },
  {
   "cell_type": "code",
   "execution_count": 36,
   "metadata": {},
   "outputs": [
    {
     "name": "stdout",
     "output_type": "stream",
     "text": [
      "Ann De Decker 10\n",
      "Marianne Bastiaens 9\n",
      "Rosa Verbeeck 8\n",
      "Peggy Verbeeck 8\n",
      "Femke De Grote 8\n",
      "Kaat Bomans 7\n",
      "Tom De Decker 7\n",
      "Eva Verbist 7\n",
      "Jenny Verbeeck 6\n",
      "Luc Bomans 6\n",
      "Simonne Backx 6\n",
      "Emma Van Damme 6\n",
      "Waldek Kosinski 5\n",
      "Werner Van Sevenant 5\n",
      "Paulien Snackaert 5\n",
      "Peter Vlerick 5\n",
      "Cois Pelckmans 5\n",
      "Julia Van Capelle 5\n",
      "Tim Cremers 4\n",
      "Yves Akkermans 4\n",
      "Bianca Bomans 4\n",
      "Marie Van Goethem 4\n",
      "Mo Fawzi 4\n",
      "Frank Bomans 4\n",
      "Sam Bastiaens 4\n"
     ]
    }
   ],
   "source": [
    "aantal_relaties_per_personage = (adjacency_totaal_arr @ adjacency_totaal_arr).diagonal()\n",
    "gesorteerde_keys = np.argsort(aantal_relaties_per_personage)[::-1]\n",
    "for key in gesorteerde_keys[:25]:\n",
    "    print(personages_by_id[key], aantal_relaties_per_personage[key])\n"
   ]
  },
  {
   "cell_type": "markdown",
   "metadata": {},
   "source": [
    "## Driehoeksrelaties in Thuis\n",
    "\n",
    "Wanneer we in drie relatiestappen bij hetzelfde personage uitkomen, is er een driehoeksrelatie: p1 <-> p2 <-> p3 <-> p1. We kunnen eens kijken of er driehoeksrelaties zijn in Thuis. "
   ]
  },
  {
   "cell_type": "code",
   "execution_count": 38,
   "metadata": {},
   "outputs": [
    {
     "data": {
      "text/plain": [
       "0"
      ]
     },
     "execution_count": 38,
     "metadata": {},
     "output_type": "execute_result"
    }
   ],
   "source": [
    "aantal_relaties_per_personage = (adjacency_totaal_arr @ adjacency_totaal_arr @ adjacency_totaal_arr).diagonal()\n",
    "np.count_nonzero(aantal_relaties_per_personage)"
   ]
  }
 ],
 "metadata": {
  "kernelspec": {
   "display_name": "Python 3",
   "language": "python",
   "name": "python3"
  },
  "language_info": {
   "codemirror_mode": {
    "name": "ipython",
    "version": 3
   },
   "file_extension": ".py",
   "mimetype": "text/x-python",
   "name": "python",
   "nbconvert_exporter": "python",
   "pygments_lexer": "ipython3",
   "version": "3.12.3"
  }
 },
 "nbformat": 4,
 "nbformat_minor": 2
}
