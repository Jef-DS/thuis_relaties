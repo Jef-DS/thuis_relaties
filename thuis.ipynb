{
 "cells": [
  {
   "cell_type": "markdown",
   "metadata": {},
   "source": [
    "# Relaties analyseren (naïeve manier)\n",
    "\n",
    "## Data verzamelen\n",
    "\n",
    "De relaties op de website van thuis worden getoond op basis van de voornaam. Het probleem is dat er meerdere personages met dezelfde voornaam zijn. Dus we kunnen op basis van deze informatie de relaties niet goed analyseren. Maar in een eerste stap zullen we dat toch doen, kwestie van een idee te krijgen hoe we die relatiedata kunnen verwerken\n",
    "\n",
    "We maken gebruik van thuis\\_http\\_utils.get_url() om het relatiebestand te downloaden en de tekst te pakken te krijgen. Vervolgens bewaren we de relatiedata in _relaties\\_namen.csv_ met behulp van thuis\\_html\\_utils.extract\\relaties()\n",
    "\n",
    "Deze code moeten we natuurlijk maar eenmaal uitvoeren. Voor de rest zullen we met het CSV-bestand werken."
   ]
  },
  {
   "cell_type": "code",
   "execution_count": 1,
   "metadata": {},
   "outputs": [],
   "source": [
    "from thuis_http_utils import get_url\n",
    "from thuis_html_utils import extract_relaties\n",
    "\n",
    "RELATIE_URL = \"https://nergensbeterdanthuis.fandom.com/nl/wiki/Relaties\"\n",
    "RELATIE_BESTAND = \"relaties_namen.csv\"\n",
    "\n",
    "inhoud = get_url(RELATIE_URL, True)   # inhoud = get_url(RELATIE_URL) wanneer het bestand al gedownload is\n",
    "extract_relaties(RELATIE_BESTAND, inhoud)"
   ]
  },
  {
   "cell_type": "markdown",
   "metadata": {},
   "source": [
    "## Een lijst met unieke namen\n",
    "De namen komen meerdere keren voor. Niet alleen omdat de voornamen uniek zijn, maar ook omdat personages meerdere relaties hebben. Daarom zullen we een lijst met unieke namen maken."
   ]
  },
  {
   "cell_type": "code",
   "execution_count": 4,
   "metadata": {},
   "outputs": [
    {
     "name": "stdout",
     "output_type": "stream",
     "text": [
      "aantak relaties 467\n",
      "aantal unieke namen 170\n",
      "['Abel', 'Adam', 'Adil', 'Aisha', 'Alex', 'Amber', 'André', 'Angele', 'Angèle', 'Ann', 'Arne', 'Arno', 'Axel', 'Barbara', 'Bennie', 'Bert', 'Betty', 'Bianca', 'Bob', 'Bonnie', 'Bram', 'Britt', 'Carlos', 'Carolien', 'Charité', 'Chiara', 'Christine', 'Claire', 'Cois', 'Cédric', 'Daisy', 'David', 'Dieter', 'Dirk', 'Dorien', 'Dries', 'Dré', 'Eddy', 'Eline', 'Elke', 'Emma', 'Eric', 'Eva', 'Femke', 'Fien', 'Filip', 'Floris', 'Florke', 'Frank', 'Franky', 'François', 'Frederique', 'Gaby', 'Gaston', 'Geert', 'Gitta', 'Guy', 'Hanne', 'Harry', 'Herman', 'Hélène', 'Ilias', 'Ingrid', 'Isabelle', 'Ivo', 'Jacques', 'Jan', 'Jana', 'Jean-Marie', 'Jean-Pierre', 'Jef', 'Jenny', 'Jens', 'Jessica', 'Jetteke', 'Joeri', 'John', 'Joren', 'Judith', 'Julia', 'Kaat', 'Karin', 'Kasper', 'Katrien', 'Kobe', 'Kris', 'Kristoff', 'Lena', 'Leo', 'Leon', 'Leontien', 'Linda', 'Lou', 'Louise', 'Lowie', 'Luc', 'Lynn', 'Maarten', 'Madeleine', 'Manon', 'Margot', 'Marianne', 'Marie', 'Martha', 'Martine', 'Mathilde', 'Max', 'Mayra', 'Michael', 'Mike', 'Mira', 'Mo', 'Nancy', 'Neil', 'Niels', 'Nina', 'Nona', 'Olivia', 'Paulien', 'Peggy', 'Peter', 'Pierre', 'Rafaël', 'Rebecca', 'Renzo', 'Renée', 'Ria', 'Robbe', 'Robert', 'Roger', 'Rosa', 'Ruben', 'Sabine', 'Sam', 'Sandrine', 'Sarah', 'Senne', 'Silke', 'Simonne', 'Sindi', 'Sofie', 'Stan', 'Steven', 'Stijn', 'Tamara', 'Tania', 'Thilly', 'Thomas', 'Tibo', 'Tim', 'Tom', 'Toon', 'Tuur', 'Valerie', 'Veronique', 'Vicky', 'Victor', 'Vince', 'Viv', 'Waldek', 'Walter', 'Wendy', 'Werner', 'William', 'Willy', 'Wim', 'Youssef', 'Yves', 'Yvette', 'Zosiane']\n"
     ]
    }
   ],
   "source": [
    "from csv import DictReader\n",
    "RELATIE_BESTAND = \"relaties_namen.csv\"\n",
    "\n",
    "unieke_namen = set()\n",
    "relaties = []\n",
    "with open (RELATIE_BESTAND, mode='r', newline='', encoding='utf-8') as f:\n",
    "    reader = DictReader(f, delimiter=\";\")\n",
    "    for rij in reader:\n",
    "        relaties.append(rij)\n",
    "        unieke_namen.add(rij['persoon_1'])\n",
    "        unieke_namen.add(rij['persoon_2'])\n",
    "\n",
    "print('aantak relaties', len(relaties))\n",
    "print('aantal unieke namen', len(unieke_namen))\n",
    "gesorteerde_namen = list(unieke_namen)\n",
    "gesorteerde_namen.sort()\n",
    "print(gesorteerde_namen)"
   ]
  },
  {
   "cell_type": "markdown",
   "metadata": {},
   "source": [
    "## relaties op basis van het volgnummer van het personage\n",
    "Nu dat we een (gesorteerde) lijst met de namen van de personages hebben, kunnen we de namen in de relaties vervangen door nummers. We zullen het resultaat bewaren in een CSV-bestand"
   ]
  },
  {
   "cell_type": "code",
   "execution_count": 13,
   "metadata": {},
   "outputs": [],
   "source": [
    "from csv import DictWriter\n",
    "RELATIE_NR_BESTAND = \"relaties_nrs.csv\"\n",
    "UNIEKE_NAMEN = \"unieke_namen.txt\"\n",
    "relatie_nrs = []\n",
    "for relatie in relaties:\n",
    "    nr1 = gesorteerde_namen.index(relatie['persoon_1'])\n",
    "    nr2 = gesorteerde_namen.index(relatie['persoon_2'])\n",
    "    relatie_nrs.append({'seizoen': int(relatie['seizoen']), 'nr1': nr1, 'nr2':nr2})\n",
    "with open(RELATIE_NR_BESTAND, mode='w', newline='', encoding='utf-8') as f:\n",
    "    writer = DictWriter(f, delimiter=';', fieldnames=('seizoen', 'nr1', 'nr2'))\n",
    "    writer.writeheader()\n",
    "    writer.writerows(relatie_nrs)\n",
    "with open(UNIEKE_NAMEN, mode='w', encoding='utf-8') as f:\n",
    "    f.write(\";\".join(gesorteerde_namen))"
   ]
  },
  {
   "cell_type": "markdown",
   "metadata": {},
   "source": [
    "## Een Numpy array met de relaties per seizoen\n",
    "Nu alles omgezet is in nummers, kunnen we een numpy array maken met de gegevens. Het zal een driedimensionele matrix zijn. [aantal_seizoene, aantal_unieke_namen, aantal_unieke_namen]"
   ]
  },
  {
   "cell_type": "code",
   "execution_count": 20,
   "metadata": {},
   "outputs": [
    {
     "name": "stdout",
     "output_type": "stream",
     "text": [
      "class:  ndarray\n",
      "shape:  (29, 170, 170)\n",
      "strides:  (28900, 170, 1)\n",
      "itemsize:  1\n",
      "aligned:  True\n",
      "contiguous:  True\n",
      "fortran:  False\n",
      "data pointer: 0x18d12296350\n",
      "byteorder:  little\n",
      "byteswap:  False\n",
      "type: uint8\n"
     ]
    }
   ],
   "source": [
    "import numpy as np\n",
    "aantal_seizoenen = relatie_nrs[-1]['seizoen']\n",
    "aantal_unieke_namen = len(gesorteerde_namen)\n",
    "arr_relaties = np.zeros((aantal_seizoenen, aantal_unieke_namen, aantal_unieke_namen), dtype=np.uint8)\n",
    "for relatie in relatie_nrs:\n",
    "    seizoen = relatie['seizoen'] -1\n",
    "    arr_relaties[seizoen, relatie['nr1'], relatie['nr2']] = 1\n",
    "    arr_relaties[seizoen, relatie['nr2'], relatie['nr1']] = 1   #een relatie is wederzijds\n",
    "np.info(arr_relaties)\n"
   ]
  },
  {
   "cell_type": "code",
   "execution_count": 39,
   "metadata": {},
   "outputs": [
    {
     "data": {
      "text/plain": [
       "'Ann'"
      ]
     },
     "execution_count": 39,
     "metadata": {},
     "output_type": "execute_result"
    }
   ],
   "source": [
    "resultaat_arr = np.any(arr_relaties==1, axis=0)\n",
    "resultaat_nr_arr = resultaat_arr.astype(np.uint8)\n",
    "aantal_relaties = resultaat_nr_arr @ resultaat_nr_arr\n",
    "np.argmax(aantal_relaties.diagonal())\n",
    "gesorteerde_namen[9]"
   ]
  },
  {
   "cell_type": "code",
   "execution_count": 36,
   "metadata": {},
   "outputs": [
    {
     "name": "stdout",
     "output_type": "stream",
     "text": [
      "[{'voornaam': 'Adil', 'achternaam': 'Bakkal', 'seizoenen': '[19, 20, 21, 22, 23, 24, 25, 26, 27, 28, 29]'}, {'voornaam': 'Britt', 'achternaam': 'Van Noteghem', 'seizoenen': '[11, 12, 13, 14, 15, 16, 17, 18, 19, 20, 21, 22, 23, 24, 25, 26, 27, 28, 29]'}, {'voornaam': 'Cédric', 'achternaam': 'Barry', 'seizoenen': '[29]'}, {'voornaam': 'Christine', 'achternaam': 'Leysen', 'seizoenen': '[24, 25, 26, 27, 28, 29]'}, {'voornaam': 'Dieter', 'achternaam': 'Van Aert', 'seizoenen': '[20, 21, 22, 23, 24, 25, 26, 27, 28, 29]'}]\n",
      "[{'voornaam': 'Abel', 'achternaam': 'Nauwelaers', 'seizoenen': '[29]'}, {'voornaam': 'Hannah', 'achternaam': 'Cremers', 'seizoenen': '[21, 22, 23, 24, 25, 26, 27, 28, 29]'}, {'voornaam': 'Jaan', 'achternaam': 'Bakkal', 'seizoenen': '[26, 27, 28, 29]'}, {'voornaam': 'Leo', 'achternaam': 'Vereken', 'seizoenen': '[25, 26, 27, 28, 29]'}, {'voornaam': 'Polly', 'achternaam': 'Bomans', 'seizoenen': '[29]'}]\n",
      "[{'voornaam': 'Adam', 'achternaam': 'Kiabaté', 'seizoenen': '[22]'}, {'voornaam': 'Alex', 'achternaam': 'Walters', 'seizoenen': '[8, 9]'}, {'voornaam': 'Amber', 'achternaam': ' Van Gistel', 'seizoenen': '[12, 13]'}, {'voornaam': 'André', 'achternaam': 'Versteven', 'seizoenen': '[16, 17, 18, 19, 20, 21]'}, {'voornaam': 'Axel', 'achternaam': 'Verstraeten', 'seizoenen': '[17]'}]\n",
      "[{'seizoen': '1', 'persoon_1': 'Frank', 'persoon_2': 'Jenny'}, {'seizoen': '1', 'persoon_1': 'Walter', 'persoon_2': 'Marianne'}, {'seizoen': '1', 'persoon_1': 'Bennie', 'persoon_2': 'Peggy'}, {'seizoen': '1', 'persoon_1': 'Frank', 'persoon_2': 'Simonne'}, {'seizoen': '1', 'persoon_1': 'John', 'persoon_2': 'Ann'}]\n"
     ]
    }
   ],
   "source": [
    "from thuis_html_utils import HOOFDPERSONAGE_CSV, NEVENPERSONAGE_CSV, GASTPERSONAGE_CSV,RELATIES_NAMEN_CSV\n",
    "from csv import DictReader\n",
    "\n",
    "hoofdpersonages = []\n",
    "with open(HOOFDPERSONAGE_CSV, mode='r', newline='', encoding='utf-8') as f:\n",
    "    reader = DictReader(f, delimiter=';')\n",
    "    for rij in reader:\n",
    "        hoofdpersonages.append(rij)\n",
    "\n",
    "nevenpersonages = []\n",
    "with open(NEVENPERSONAGE_CSV, mode='r', newline='', encoding='utf-8') as f:\n",
    "    reader = DictReader(f, delimiter=';')\n",
    "    for rij in reader:\n",
    "        nevenpersonages.append(rij)\n",
    "gastpersonages = []\n",
    "with open(GASTPERSONAGE_CSV, mode='r', newline='', encoding='utf-8') as f:\n",
    "    reader = DictReader(f, delimiter=';')\n",
    "    for rij in reader:\n",
    "        gastpersonages.append(rij)\n",
    "relaties = []\n",
    "with open(RELATIES_NAMEN_CSV, mode='r', encoding='utf-8') as f:\n",
    "    reader = DictReader(f, delimiter=';')\n",
    "    for rij in reader:\n",
    "        relaties.append(rij)\n",
    "\n",
    "print(hoofdpersonages[:5])\n",
    "print(nevenpersonages[:5])\n",
    "print(gastpersonages[:5])\n",
    "print(relaties[:5])\n"
   ]
  },
  {
   "cell_type": "code",
   "execution_count": 37,
   "metadata": {},
   "outputs": [
    {
     "data": {
      "text/plain": [
       "0"
      ]
     },
     "execution_count": 37,
     "metadata": {},
     "output_type": "execute_result"
    }
   ],
   "source": [
    "personage_lijst = hoofdpersonages + nevenpersonages + gastpersonages\n",
    "def bestaat_personage(voornaam, seizoen) -> bool:\n",
    "    personages = [personage for personage in personage_lijst if personage['voornaam'] == voornaam]\n",
    "    if len(personages) == 0:\n",
    "        print(f'Personage {voornaam} niet gevonden')\n",
    "        return False\n",
    "    for personage in personages:\n",
    "        if seizoen in personage['seizoenen']:\n",
    "            return True\n",
    "    print(f'Seizoen {seizoen} niet gevonden voor {voornaam}')\n",
    "    return False\n",
    "\n",
    "aantal_fout = 0\n",
    "for relatie in relaties:\n",
    "    if not bestaat_personage(relatie['persoon_1'], relatie['seizoen']): aantal_fout += 1\n",
    "    if not bestaat_personage(relatie['persoon_2'], relatie['seizoen']): aantal_fout += 1\n",
    "\n",
    "aantal_fout\n",
    "    \n"
   ]
  }
 ],
 "metadata": {
  "kernelspec": {
   "display_name": "Python 3",
   "language": "python",
   "name": "python3"
  },
  "language_info": {
   "codemirror_mode": {
    "name": "ipython",
    "version": 3
   },
   "file_extension": ".py",
   "mimetype": "text/x-python",
   "name": "python",
   "nbconvert_exporter": "python",
   "pygments_lexer": "ipython3",
   "version": "3.12.3"
  }
 },
 "nbformat": 4,
 "nbformat_minor": 2
}
